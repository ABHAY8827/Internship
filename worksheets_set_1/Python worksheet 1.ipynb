{
 "cells": [
  {
   "cell_type": "markdown",
   "id": "6d6fc464",
   "metadata": {},
   "source": [
    "# python worksheet"
   ]
  },
  {
   "cell_type": "markdown",
   "id": "c5e587f9",
   "metadata": {},
   "source": [
    "##### 1. C \n",
    "##### 2. B \n",
    "##### 3. C \n",
    "##### 4. A \n",
    "##### 5. D \n",
    "##### 6. C \n",
    "##### 7. A \n",
    "##### 8. C \n",
    "##### 9. A, B,\tC  \n",
    "##### 10. A, B "
   ]
  },
  {
   "cell_type": "markdown",
   "id": "94495012",
   "metadata": {},
   "source": [
    "### 11) Factorial of number"
   ]
  },
  {
   "cell_type": "code",
   "execution_count": 11,
   "id": "e1c15831",
   "metadata": {},
   "outputs": [
    {
     "name": "stdout",
     "output_type": "stream",
     "text": [
      "3\n",
      "Factorial is : 6\n"
     ]
    }
   ],
   "source": [
    "x = int(input())\n",
    "m=1\n",
    "if x>1: \n",
    "    for i in range(m,x):\n",
    "        for j in range(m,x+1):\n",
    "            fact = i*j\n",
    "            x=fact\n",
    "    print('Factorial is :',fact) \n",
    "else:\n",
    "    print('Factorial is 1') #factorial of 1 is 1"
   ]
  },
  {
   "cell_type": "markdown",
   "id": "456f93ac",
   "metadata": {},
   "source": [
    "#### 12) Write a python program to find whether a number is prime or composite. "
   ]
  },
  {
   "cell_type": "code",
   "execution_count": 2,
   "id": "07edd7cb",
   "metadata": {},
   "outputs": [],
   "source": [
    "def pri(x):\n",
    "    for i in range(2,x): # giving range from 2 because all number is divisible by 1\n",
    "            if x % i == 0:\n",
    "                return('composite')\n",
    "            else:\n",
    "                return ('prime')\n",
    "    if x<=2: # 2 is the only even number which is prime number \n",
    "        print('prime')"
   ]
  },
  {
   "cell_type": "code",
   "execution_count": 3,
   "id": "99fb493d",
   "metadata": {},
   "outputs": [
    {
     "data": {
      "text/plain": [
       "'prime'"
      ]
     },
     "execution_count": 3,
     "metadata": {},
     "output_type": "execute_result"
    }
   ],
   "source": [
    "pri(5)"
   ]
  },
  {
   "cell_type": "code",
   "execution_count": 4,
   "id": "9e02e6df",
   "metadata": {},
   "outputs": [
    {
     "data": {
      "text/plain": [
       "'composite'"
      ]
     },
     "execution_count": 4,
     "metadata": {},
     "output_type": "execute_result"
    }
   ],
   "source": [
    "pri(22)"
   ]
  },
  {
   "cell_type": "code",
   "execution_count": 5,
   "id": "48ed5ce5",
   "metadata": {},
   "outputs": [
    {
     "name": "stdout",
     "output_type": "stream",
     "text": [
      "prime\n"
     ]
    }
   ],
   "source": [
    "pri(2)"
   ]
  },
  {
   "cell_type": "markdown",
   "id": "b4def565",
   "metadata": {},
   "source": [
    "### 13) Write a python program to check whether a given string is palindrome or not."
   ]
  },
  {
   "cell_type": "code",
   "execution_count": 7,
   "id": "a8251d8c",
   "metadata": {},
   "outputs": [
    {
     "name": "stdout",
     "output_type": "stream",
     "text": [
      "HANNAH\n",
      "Palindrom\n"
     ]
    }
   ],
   "source": [
    "n=input()\n",
    "n= n.lower()\n",
    "x =int(len(n)/2)\n",
    "if len(n)%2 == 0:\n",
    "    if n[:x] ==n[-1:x-1:-1]:\n",
    "        print('Palindrom')\n",
    "    else:\n",
    "        print('Not a palindrom')\n",
    "else:\n",
    "    if n[:x] ==n[-1:x:-1]:\n",
    "        print('Palindrome')\n",
    "    else:\n",
    "        print('Not a palindrome')"
   ]
  },
  {
   "cell_type": "markdown",
   "id": "74c59c21",
   "metadata": {},
   "source": [
    "### 14.Write a Python program to get the third side of right-angled triangle from two given sides."
   ]
  },
  {
   "cell_type": "code",
   "execution_count": 8,
   "id": "c9cfd27b",
   "metadata": {},
   "outputs": [
    {
     "name": "stdout",
     "output_type": "stream",
     "text": [
      "Hypotenuse = 5.0\n"
     ]
    }
   ],
   "source": [
    "def pythagoras(base,perpendicular,hypotenuse):\n",
    "        if base == str(\"x\"):\n",
    "            return (\"base = \" + str(((hypotenuse**2) - (perpendicular**2))**0.5))\n",
    "        elif perpendicular == str(\"x\"):\n",
    "            return (\"perpendicular = \" + str(((hypotenuse**2) - (base**2))**0.5))\n",
    "        elif hypotenuse == str(\"x\"):\n",
    "            return (\"Hypotenuse = \" + str(((base**2) + (perpendicular**2))**0.5))\n",
    "\n",
    "print(pythagoras(3,4,'x'))"
   ]
  },
  {
   "cell_type": "code",
   "execution_count": 9,
   "id": "13461950",
   "metadata": {},
   "outputs": [
    {
     "data": {
      "text/plain": [
       "'perpendicular = 4.0'"
      ]
     },
     "execution_count": 9,
     "metadata": {},
     "output_type": "execute_result"
    }
   ],
   "source": [
    "pythagoras(3,'x',5)"
   ]
  },
  {
   "cell_type": "markdown",
   "id": "b289b791",
   "metadata": {},
   "source": [
    "### 15. Write a python program to print the frequency of each of the characters present in a given string"
   ]
  },
  {
   "cell_type": "code",
   "execution_count": 10,
   "id": "26e42f69",
   "metadata": {},
   "outputs": [
    {
     "name": "stdout",
     "output_type": "stream",
     "text": [
      "ABHAY @!@(\n",
      "Frequency of each character :\n",
      "  {'B': 1, '!': 1, 'H': 1, 'Y': 1, ' ': 1, '(': 1, '@': 2, 'A': 2}\n"
     ]
    }
   ],
   "source": [
    "string = input()\n",
    "# Using count\n",
    "res= {}\n",
    "\n",
    "res={n: string.count(n) for n in set(string)}\n",
    "\n",
    "# Result\n",
    "print(\"Frequency of each character :\\n \",res)"
   ]
  },
  {
   "cell_type": "code",
   "execution_count": null,
   "id": "a8e8514d",
   "metadata": {},
   "outputs": [],
   "source": []
  }
 ],
 "metadata": {
  "kernelspec": {
   "display_name": "Python 3",
   "language": "python",
   "name": "python3"
  },
  "language_info": {
   "codemirror_mode": {
    "name": "ipython",
    "version": 3
   },
   "file_extension": ".py",
   "mimetype": "text/x-python",
   "name": "python",
   "nbconvert_exporter": "python",
   "pygments_lexer": "ipython3",
   "version": "3.8.8"
  }
 },
 "nbformat": 4,
 "nbformat_minor": 5
}
