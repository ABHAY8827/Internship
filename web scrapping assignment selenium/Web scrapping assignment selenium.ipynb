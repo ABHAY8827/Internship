{
 "cells": [
  {
   "cell_type": "markdown",
   "id": "abd9f6e6",
   "metadata": {},
   "source": [
    "## Selenium"
   ]
  },
  {
   "cell_type": "markdown",
   "id": "58572635",
   "metadata": {},
   "source": [
    "#### Q1: Write a python program to scrape data for “Data Analyst” Job position in “Bangalore” location. You have to scrape the job-title, job-location, company_name, experience_required. You have to scrape first 10 jobs data.\n",
    "##### This task will be done in following steps:\n",
    "##### 1. First get the webpage https://www.naukri.com/\n",
    "##### 2. Enter “Data Analyst” in “Skill, Designations, Companies” field and enter “Bangalore” in “enter the location” field.\n",
    "##### 3. Then click the search button.\n",
    "##### 4. Then scrape the data for the first 10 jobs results you get.\n",
    "##### 5. Finally create a dataframe of the scraped data."
   ]
  },
  {
   "cell_type": "code",
   "execution_count": 51,
   "id": "24a3c2ed",
   "metadata": {},
   "outputs": [],
   "source": [
    "import selenium\n",
    "from selenium import webdriver\n",
    "import pandas as pd\n",
    "from selenium.webdriver.common.keys import Keys\n",
    "import warnings \n",
    "warnings.filterwarnings('ignore')"
   ]
  },
  {
   "cell_type": "code",
   "execution_count": 8,
   "id": "3218fa60",
   "metadata": {},
   "outputs": [],
   "source": [
    "# lets first connect to web driver\n",
    "driver = webdriver.Chrome(r'E:\\Data science\\FLIPROBO\\web driver\\chromedriver.exe')"
   ]
  },
  {
   "cell_type": "code",
   "execution_count": 9,
   "id": "3af5b15c",
   "metadata": {},
   "outputs": [],
   "source": [
    "url = 'https://www.naukri.com/'\n",
    "driver.get(url)"
   ]
  },
  {
   "cell_type": "code",
   "execution_count": 10,
   "id": "ad0c1df2",
   "metadata": {},
   "outputs": [
    {
     "data": {
      "text/plain": [
       "<selenium.webdriver.remote.webelement.WebElement (session=\"5b91b5b114c47efbb4e8458117555eb7\", element=\"066ea295-125d-4a55-ac2a-71c963362ba1\")>"
      ]
     },
     "execution_count": 10,
     "metadata": {},
     "output_type": "execute_result"
    }
   ],
   "source": [
    "#finding web element for search job using id\n",
    "search_job = driver.find_element_by_id('qsb-keyword-sugg')\n",
    "search_job"
   ]
  },
  {
   "cell_type": "code",
   "execution_count": 11,
   "id": "ab44c8b8",
   "metadata": {},
   "outputs": [],
   "source": [
    "search_job.send_keys('Data Analyst')"
   ]
  },
  {
   "cell_type": "code",
   "execution_count": 12,
   "id": "3f2be270",
   "metadata": {},
   "outputs": [
    {
     "data": {
      "text/plain": [
       "<selenium.webdriver.remote.webelement.WebElement (session=\"5b91b5b114c47efbb4e8458117555eb7\", element=\"e2547d3b-61bd-4220-a0ca-3618aae6d290\")>"
      ]
     },
     "execution_count": 12,
     "metadata": {},
     "output_type": "execute_result"
    }
   ],
   "source": [
    "### finding web element for search location bar using absolute xpath\n",
    "search_locn = driver.find_element_by_xpath('/html/body/div[1]/div[3]/div[2]/section/div/form/div[2]/div/div/div/div[1]/div[2]/input')\n",
    "search_locn"
   ]
  },
  {
   "cell_type": "code",
   "execution_count": 13,
   "id": "06524da4",
   "metadata": {},
   "outputs": [],
   "source": [
    "search_locn.send_keys('Bangalore')"
   ]
  },
  {
   "cell_type": "code",
   "execution_count": 16,
   "id": "a92fa2b2",
   "metadata": {},
   "outputs": [
    {
     "data": {
      "text/plain": [
       "<selenium.webdriver.remote.webelement.WebElement (session=\"5b91b5b114c47efbb4e8458117555eb7\", element=\"e00dd962-0a3d-4e7f-aa2e-26a5c2eb67b8\")>"
      ]
     },
     "execution_count": 16,
     "metadata": {},
     "output_type": "execute_result"
    }
   ],
   "source": [
    "## clicking search button using absolute xpath function\n",
    "search_btn = driver.find_element_by_xpath('/html/body/div[1]/div[3]/div[2]/section/div/form/div[3]/button')\n",
    "search_btn"
   ]
  },
  {
   "cell_type": "code",
   "execution_count": 17,
   "id": "e7d52ac1",
   "metadata": {},
   "outputs": [],
   "source": [
    "search_btn.click()"
   ]
  },
  {
   "cell_type": "markdown",
   "id": "0d9a83b0",
   "metadata": {},
   "source": [
    "### Extracting job titles"
   ]
  },
  {
   "cell_type": "markdown",
   "id": "49f54a88",
   "metadata": {},
   "source": [
    "### lets extract all web elements having job titles"
   ]
  },
  {
   "cell_type": "code",
   "execution_count": 26,
   "id": "0a7ed950",
   "metadata": {},
   "outputs": [
    {
     "data": {
      "text/plain": [
       "20"
      ]
     },
     "execution_count": 26,
     "metadata": {},
     "output_type": "execute_result"
    }
   ],
   "source": [
    "title = driver.find_elements_by_xpath('//a[@class=\"title fw500 ellipsis\"]')\n",
    "len(title)"
   ]
  },
  {
   "cell_type": "code",
   "execution_count": 31,
   "id": "e0097364",
   "metadata": {},
   "outputs": [
    {
     "name": "stdout",
     "output_type": "stream",
     "text": [
      "10\n",
      "['Lead - Data Analyst / Scientist', 'Senior Data Analyst', 'Data Analyst', 'BUSINESS ANALYST -DATA SCIENCE-CONSUMER', 'Data Analyst', 'Senior Data Analyst - Supporting Audits', 'Data Analyst', 'Senior Data Analyst', 'Senior Data Analyst', 'Data Analyst']\n"
     ]
    }
   ],
   "source": [
    "### now job_title is inside the title tag we will iterate over it to extract job_titles\n",
    "job_titles = []\n",
    "for i in title:\n",
    "    job_titles.append(i.text)\n",
    "    job_titles = job_titles[:10]\n",
    "print(len(job_titles))\n",
    "print(job_titles)"
   ]
  },
  {
   "cell_type": "markdown",
   "id": "ac50e264",
   "metadata": {},
   "source": [
    "## Extracting location"
   ]
  },
  {
   "cell_type": "code",
   "execution_count": 23,
   "id": "51d3c34c",
   "metadata": {},
   "outputs": [
    {
     "data": {
      "text/plain": [
       "20"
      ]
     },
     "execution_count": 23,
     "metadata": {},
     "output_type": "execute_result"
    }
   ],
   "source": [
    "locn = driver.find_elements_by_xpath('//li[@class=\"fleft grey-text br2 placeHolderLi location\"]')\n",
    "len(locn)"
   ]
  },
  {
   "cell_type": "code",
   "execution_count": 32,
   "id": "9aa91ebc",
   "metadata": {},
   "outputs": [
    {
     "name": "stdout",
     "output_type": "stream",
     "text": [
      "['Bangalore/Bengaluru', 'Bangalore/Bengaluru', 'Bangalore/Bengaluru', 'Bangalore/Bengaluru', 'Bangalore/Bengaluru', 'Bangalore/Bengaluru', 'Bengaluru/Bangalore', 'Bangalore/Bengaluru', 'Bangalore/Bengaluru', 'Bangalore/Bengaluru']\n"
     ]
    }
   ],
   "source": [
    "job_location = []\n",
    "for i in locn:\n",
    "    job_location.append(i.text)\n",
    "    job_location = job_location[:10]\n",
    "print(job_location)"
   ]
  },
  {
   "cell_type": "markdown",
   "id": "6c08fbb8",
   "metadata": {},
   "source": [
    "### Extracting company name"
   ]
  },
  {
   "cell_type": "code",
   "execution_count": 20,
   "id": "c5851807",
   "metadata": {},
   "outputs": [
    {
     "data": {
      "text/plain": [
       "20"
      ]
     },
     "execution_count": 20,
     "metadata": {},
     "output_type": "execute_result"
    }
   ],
   "source": [
    "company_name = driver.find_elements_by_xpath('//a[@class=\"subTitle ellipsis fleft\"]')\n",
    "len(company_name)"
   ]
  },
  {
   "cell_type": "code",
   "execution_count": 33,
   "id": "63aa6fe1",
   "metadata": {},
   "outputs": [
    {
     "name": "stdout",
     "output_type": "stream",
     "text": [
      "['Axim Technologies', 'Schneider Electric', 'Snaphunt', 'BRIDGEi2i Analytics Solutions Private Limited', 'Jeeva Organic', 'Visa', 'Flipkart', 'Glance', 'Glance IT Solution', 'Novel Office']\n"
     ]
    }
   ],
   "source": [
    "company_names = []\n",
    "for i in company_name:\n",
    "    company_names.append(i.text)\n",
    "    company_names=company_names[:10]\n",
    "print(company_names)"
   ]
  },
  {
   "cell_type": "markdown",
   "id": "bf2bd398",
   "metadata": {},
   "source": [
    "## Experience required"
   ]
  },
  {
   "cell_type": "code",
   "execution_count": 35,
   "id": "f83b73fb",
   "metadata": {},
   "outputs": [
    {
     "data": {
      "text/plain": [
       "20"
      ]
     },
     "execution_count": 35,
     "metadata": {},
     "output_type": "execute_result"
    }
   ],
   "source": [
    "Experience_required = driver.find_elements_by_xpath('//li[@class=\"fleft grey-text br2 placeHolderLi experience\"]')\n",
    "len(Experience_required)"
   ]
  },
  {
   "cell_type": "code",
   "execution_count": 36,
   "id": "b46ab49f",
   "metadata": {},
   "outputs": [
    {
     "name": "stdout",
     "output_type": "stream",
     "text": [
      "['12-14 Yrs', '0-2 Yrs', '0-2 Yrs', '0-2 Yrs', '3-8 Yrs', '5-8 Yrs', '1-2 Yrs', '1-6 Yrs', '1-6 Yrs', '0-3 Yrs']\n"
     ]
    }
   ],
   "source": [
    "experience = []\n",
    "for i in Experience_required:\n",
    "    experience.append(i.text)\n",
    "    experience = experience[:10]\n",
    "print(experience)"
   ]
  },
  {
   "cell_type": "markdown",
   "id": "fa7a8c77",
   "metadata": {},
   "source": [
    "### making dataframe"
   ]
  },
  {
   "cell_type": "code",
   "execution_count": 37,
   "id": "ca9322da",
   "metadata": {},
   "outputs": [
    {
     "data": {
      "text/plain": [
       "(10, 10, 10, 10)"
      ]
     },
     "execution_count": 37,
     "metadata": {},
     "output_type": "execute_result"
    }
   ],
   "source": [
    "len(job_titles),len(job_location),len(experience),len(company_names)"
   ]
  },
  {
   "cell_type": "code",
   "execution_count": 39,
   "id": "3f90312e",
   "metadata": {},
   "outputs": [],
   "source": [
    "job=pd.DataFrame()\n",
    "job['job-title'] = job_titles\n",
    "job['job-location'] = job_location\n",
    "job['company_name'] = company_names\n",
    "job['Experience_required'] = experience"
   ]
  },
  {
   "cell_type": "code",
   "execution_count": 40,
   "id": "34b3c8c8",
   "metadata": {},
   "outputs": [
    {
     "data": {
      "text/html": [
       "<div>\n",
       "<style scoped>\n",
       "    .dataframe tbody tr th:only-of-type {\n",
       "        vertical-align: middle;\n",
       "    }\n",
       "\n",
       "    .dataframe tbody tr th {\n",
       "        vertical-align: top;\n",
       "    }\n",
       "\n",
       "    .dataframe thead th {\n",
       "        text-align: right;\n",
       "    }\n",
       "</style>\n",
       "<table border=\"1\" class=\"dataframe\">\n",
       "  <thead>\n",
       "    <tr style=\"text-align: right;\">\n",
       "      <th></th>\n",
       "      <th>job-title</th>\n",
       "      <th>job-location</th>\n",
       "      <th>company_name</th>\n",
       "      <th>Experience_required</th>\n",
       "    </tr>\n",
       "  </thead>\n",
       "  <tbody>\n",
       "    <tr>\n",
       "      <th>0</th>\n",
       "      <td>Lead - Data Analyst / Scientist</td>\n",
       "      <td>Bangalore/Bengaluru</td>\n",
       "      <td>Axim Technologies</td>\n",
       "      <td>12-14 Yrs</td>\n",
       "    </tr>\n",
       "    <tr>\n",
       "      <th>1</th>\n",
       "      <td>Senior Data Analyst</td>\n",
       "      <td>Bangalore/Bengaluru</td>\n",
       "      <td>Schneider Electric</td>\n",
       "      <td>0-2 Yrs</td>\n",
       "    </tr>\n",
       "    <tr>\n",
       "      <th>2</th>\n",
       "      <td>Data Analyst</td>\n",
       "      <td>Bangalore/Bengaluru</td>\n",
       "      <td>Snaphunt</td>\n",
       "      <td>0-2 Yrs</td>\n",
       "    </tr>\n",
       "    <tr>\n",
       "      <th>3</th>\n",
       "      <td>BUSINESS ANALYST -DATA SCIENCE-CONSUMER</td>\n",
       "      <td>Bangalore/Bengaluru</td>\n",
       "      <td>BRIDGEi2i Analytics Solutions Private Limited</td>\n",
       "      <td>0-2 Yrs</td>\n",
       "    </tr>\n",
       "    <tr>\n",
       "      <th>4</th>\n",
       "      <td>Data Analyst</td>\n",
       "      <td>Bangalore/Bengaluru</td>\n",
       "      <td>Jeeva Organic</td>\n",
       "      <td>3-8 Yrs</td>\n",
       "    </tr>\n",
       "    <tr>\n",
       "      <th>5</th>\n",
       "      <td>Senior Data Analyst - Supporting Audits</td>\n",
       "      <td>Bangalore/Bengaluru</td>\n",
       "      <td>Visa</td>\n",
       "      <td>5-8 Yrs</td>\n",
       "    </tr>\n",
       "    <tr>\n",
       "      <th>6</th>\n",
       "      <td>Data Analyst</td>\n",
       "      <td>Bengaluru/Bangalore</td>\n",
       "      <td>Flipkart</td>\n",
       "      <td>1-2 Yrs</td>\n",
       "    </tr>\n",
       "    <tr>\n",
       "      <th>7</th>\n",
       "      <td>Senior Data Analyst</td>\n",
       "      <td>Bangalore/Bengaluru</td>\n",
       "      <td>Glance</td>\n",
       "      <td>1-6 Yrs</td>\n",
       "    </tr>\n",
       "    <tr>\n",
       "      <th>8</th>\n",
       "      <td>Senior Data Analyst</td>\n",
       "      <td>Bangalore/Bengaluru</td>\n",
       "      <td>Glance IT Solution</td>\n",
       "      <td>1-6 Yrs</td>\n",
       "    </tr>\n",
       "    <tr>\n",
       "      <th>9</th>\n",
       "      <td>Data Analyst</td>\n",
       "      <td>Bangalore/Bengaluru</td>\n",
       "      <td>Novel Office</td>\n",
       "      <td>0-3 Yrs</td>\n",
       "    </tr>\n",
       "  </tbody>\n",
       "</table>\n",
       "</div>"
      ],
      "text/plain": [
       "                                 job-title         job-location  \\\n",
       "0          Lead - Data Analyst / Scientist  Bangalore/Bengaluru   \n",
       "1                      Senior Data Analyst  Bangalore/Bengaluru   \n",
       "2                             Data Analyst  Bangalore/Bengaluru   \n",
       "3  BUSINESS ANALYST -DATA SCIENCE-CONSUMER  Bangalore/Bengaluru   \n",
       "4                             Data Analyst  Bangalore/Bengaluru   \n",
       "5  Senior Data Analyst - Supporting Audits  Bangalore/Bengaluru   \n",
       "6                             Data Analyst  Bengaluru/Bangalore   \n",
       "7                      Senior Data Analyst  Bangalore/Bengaluru   \n",
       "8                      Senior Data Analyst  Bangalore/Bengaluru   \n",
       "9                             Data Analyst  Bangalore/Bengaluru   \n",
       "\n",
       "                                    company_name Experience_required  \n",
       "0                              Axim Technologies           12-14 Yrs  \n",
       "1                             Schneider Electric             0-2 Yrs  \n",
       "2                                       Snaphunt             0-2 Yrs  \n",
       "3  BRIDGEi2i Analytics Solutions Private Limited             0-2 Yrs  \n",
       "4                                  Jeeva Organic             3-8 Yrs  \n",
       "5                                           Visa             5-8 Yrs  \n",
       "6                                       Flipkart             1-2 Yrs  \n",
       "7                                         Glance             1-6 Yrs  \n",
       "8                             Glance IT Solution             1-6 Yrs  \n",
       "9                                   Novel Office             0-3 Yrs  "
      ]
     },
     "execution_count": 40,
     "metadata": {},
     "output_type": "execute_result"
    }
   ],
   "source": [
    "job"
   ]
  },
  {
   "cell_type": "markdown",
   "id": "ec1094aa",
   "metadata": {},
   "source": [
    "#### 2) Write a python program to scrape data for “Data Scientist” Job position in “Bangalore” location. You have to scrape the job-title, job-location, company_name. You have to scrape first 10 jobs data. This task will be done in following steps:\n",
    "##### 1. First get the webpage https://www.naukri.com/\n",
    "##### 2. Enter “Data Scientist” in “Skill, Designations, Companies” field and enter “Bangalore” in “enter the location” field.\n",
    "##### 3. Then click the search button.\n",
    "##### 4. Then scrape the data for the first 10 jobs results you get.\n",
    "##### 5. Finally create a dataframe of the scraped data.\n"
   ]
  },
  {
   "cell_type": "code",
   "execution_count": 43,
   "id": "8297b9ca",
   "metadata": {},
   "outputs": [],
   "source": [
    "driver = webdriver.Chrome(r'E:\\Data science\\FLIPROBO\\web driver\\chromedriver.exe')"
   ]
  },
  {
   "cell_type": "code",
   "execution_count": 44,
   "id": "1234e228",
   "metadata": {},
   "outputs": [],
   "source": [
    "url = 'https://www.naukri.com/'\n",
    "driver.get(url)"
   ]
  },
  {
   "cell_type": "code",
   "execution_count": 45,
   "id": "4e8482ba",
   "metadata": {},
   "outputs": [
    {
     "data": {
      "text/plain": [
       "<selenium.webdriver.remote.webelement.WebElement (session=\"2ea1a5ebf7363f8452f790f24009c52c\", element=\"b83e4ce8-694a-42e4-beed-d28e412a0ef9\")>"
      ]
     },
     "execution_count": 45,
     "metadata": {},
     "output_type": "execute_result"
    }
   ],
   "source": [
    "#finding web element for search job using id\n",
    "search_job = driver.find_element_by_id('qsb-keyword-sugg')\n",
    "search_job"
   ]
  },
  {
   "cell_type": "code",
   "execution_count": 46,
   "id": "f664f81f",
   "metadata": {},
   "outputs": [],
   "source": [
    "search_job.send_keys('Data Scientist')"
   ]
  },
  {
   "cell_type": "code",
   "execution_count": 47,
   "id": "ca0f14c5",
   "metadata": {},
   "outputs": [
    {
     "data": {
      "text/plain": [
       "<selenium.webdriver.remote.webelement.WebElement (session=\"2ea1a5ebf7363f8452f790f24009c52c\", element=\"57aa849d-a0a4-438f-bb3b-369d93edcc37\")>"
      ]
     },
     "execution_count": 47,
     "metadata": {},
     "output_type": "execute_result"
    }
   ],
   "source": [
    "### finding web element for search location bar using absolute xpath\n",
    "search_locn = driver.find_element_by_xpath('/html/body/div[1]/div[3]/div[2]/section/div/form/div[2]/div/div/div/div[1]/div[2]/input')\n",
    "search_locn"
   ]
  },
  {
   "cell_type": "code",
   "execution_count": 48,
   "id": "bf4943f4",
   "metadata": {},
   "outputs": [],
   "source": [
    "search_locn.send_keys('Bangalore')"
   ]
  },
  {
   "cell_type": "code",
   "execution_count": 49,
   "id": "c8b3c833",
   "metadata": {},
   "outputs": [
    {
     "data": {
      "text/plain": [
       "<selenium.webdriver.remote.webelement.WebElement (session=\"2ea1a5ebf7363f8452f790f24009c52c\", element=\"d7134201-1ede-4c2f-9437-e3b4ef8350db\")>"
      ]
     },
     "execution_count": 49,
     "metadata": {},
     "output_type": "execute_result"
    }
   ],
   "source": [
    "## clicking search button using absolute xpath function\n",
    "search_btn = driver.find_element_by_xpath('/html/body/div[1]/div[3]/div[2]/section/div/form/div[3]/button')\n",
    "search_btn"
   ]
  },
  {
   "cell_type": "code",
   "execution_count": 50,
   "id": "22e703bf",
   "metadata": {},
   "outputs": [],
   "source": [
    "search_btn.click()"
   ]
  },
  {
   "cell_type": "markdown",
   "id": "2cbe97c4",
   "metadata": {},
   "source": [
    "### Extracting job titles"
   ]
  },
  {
   "cell_type": "code",
   "execution_count": 52,
   "id": "779c34f2",
   "metadata": {},
   "outputs": [
    {
     "name": "stdout",
     "output_type": "stream",
     "text": [
      "10\n",
      "['Lead/Senior Data Scientist (NLP)', 'Global Tax Automation & Operations | Data Scientist Senior Analyst', 'Senior Data Scientist', 'Lead Data Scientist - Prescriptive Analytics/Predictive Modeling', 'Lead Data Scientist - NLP/OpenCV', 'Lead - Data Analyst / Scientist', 'Job opening with Wipro For Data Scientist', 'Spark ML Data Scientist', 'Spark ML Data Scientist', 'Senior Data Scientist - Logistics']\n"
     ]
    }
   ],
   "source": [
    "title = driver.find_elements_by_xpath('//a[@class=\"title fw500 ellipsis\"]')\n",
    "### now job_title is inside the title tag we will iterate over it to extract job_titles\n",
    "job_titles = []\n",
    "for i in title:\n",
    "    job_titles.append(i.text)\n",
    "    job_titles = job_titles[:10]\n",
    "print(len(job_titles))\n",
    "print(job_titles)"
   ]
  },
  {
   "cell_type": "markdown",
   "id": "44abe42e",
   "metadata": {},
   "source": [
    "### Extracting job location"
   ]
  },
  {
   "cell_type": "code",
   "execution_count": 56,
   "id": "3441b1db",
   "metadata": {},
   "outputs": [
    {
     "name": "stdout",
     "output_type": "stream",
     "text": [
      "['Bangalore/Bengaluru\\n(WFH during Covid)', 'Bangalore/Bengaluru', 'Gurgaon/Gurugram, Bangalore/Bengaluru, Mumbai (All Areas)', 'Hyderabad/Secunderabad, Bangalore/Bengaluru', 'Hyderabad/Secunderabad, Bangalore/Bengaluru', 'Bangalore/Bengaluru', 'Hyderabad/Secunderabad, Pune, Chennai, Bangalore/Bengaluru', 'Hyderabad/Secunderabad, Pune, Bangalore/Bengaluru\\n(WFH during Covid)', 'Hyderabad/Secunderabad, Pune, Bangalore/Bengaluru', 'Bangalore/Bengaluru']\n"
     ]
    }
   ],
   "source": [
    "locn = driver.find_elements_by_xpath('//li[@class=\"fleft grey-text br2 placeHolderLi location\"]')\n",
    "job_location = []\n",
    "for i in locn:\n",
    "    job_location.append(i.text)\n",
    "    job_location = job_location[:10]\n",
    "print(job_location)"
   ]
  },
  {
   "cell_type": "markdown",
   "id": "eb8ca10b",
   "metadata": {},
   "source": [
    "### Extracting company name"
   ]
  },
  {
   "cell_type": "code",
   "execution_count": 57,
   "id": "4a72d3a5",
   "metadata": {},
   "outputs": [
    {
     "data": {
      "text/plain": [
       "20"
      ]
     },
     "execution_count": 57,
     "metadata": {},
     "output_type": "execute_result"
    }
   ],
   "source": [
    "company_name = driver.find_elements_by_xpath('//a[@class=\"subTitle ellipsis fleft\"]')\n",
    "len(company_name)"
   ]
  },
  {
   "cell_type": "code",
   "execution_count": 58,
   "id": "1002f22d",
   "metadata": {},
   "outputs": [
    {
     "name": "stdout",
     "output_type": "stream",
     "text": [
      "['Samya.AI A FRACTAL Entity', 'Dell', 'Fractal Analytics', 'Codersbrain', 'Codersbrain', 'Axim Technologies', 'Wipro', 'Wipro', 'Wipro', 'Gojek Tech']\n"
     ]
    }
   ],
   "source": [
    "company_names = []\n",
    "for i in company_name:\n",
    "    company_names.append(i.text)\n",
    "    company_names=company_names[:10]\n",
    "print(company_names)"
   ]
  },
  {
   "cell_type": "code",
   "execution_count": 59,
   "id": "f5c60375",
   "metadata": {},
   "outputs": [],
   "source": [
    "job=pd.DataFrame()\n",
    "job['job-title'] = job_titles\n",
    "job['job-location'] = job_location\n",
    "job['company_name'] = company_names"
   ]
  },
  {
   "cell_type": "code",
   "execution_count": 60,
   "id": "3a9dc354",
   "metadata": {},
   "outputs": [
    {
     "data": {
      "text/html": [
       "<div>\n",
       "<style scoped>\n",
       "    .dataframe tbody tr th:only-of-type {\n",
       "        vertical-align: middle;\n",
       "    }\n",
       "\n",
       "    .dataframe tbody tr th {\n",
       "        vertical-align: top;\n",
       "    }\n",
       "\n",
       "    .dataframe thead th {\n",
       "        text-align: right;\n",
       "    }\n",
       "</style>\n",
       "<table border=\"1\" class=\"dataframe\">\n",
       "  <thead>\n",
       "    <tr style=\"text-align: right;\">\n",
       "      <th></th>\n",
       "      <th>job-title</th>\n",
       "      <th>job-location</th>\n",
       "      <th>company_name</th>\n",
       "    </tr>\n",
       "  </thead>\n",
       "  <tbody>\n",
       "    <tr>\n",
       "      <th>0</th>\n",
       "      <td>Lead/Senior Data Scientist (NLP)</td>\n",
       "      <td>Bangalore/Bengaluru\\n(WFH during Covid)</td>\n",
       "      <td>Samya.AI A FRACTAL Entity</td>\n",
       "    </tr>\n",
       "    <tr>\n",
       "      <th>1</th>\n",
       "      <td>Global Tax Automation &amp; Operations | Data Scie...</td>\n",
       "      <td>Bangalore/Bengaluru</td>\n",
       "      <td>Dell</td>\n",
       "    </tr>\n",
       "    <tr>\n",
       "      <th>2</th>\n",
       "      <td>Senior Data Scientist</td>\n",
       "      <td>Gurgaon/Gurugram, Bangalore/Bengaluru, Mumbai ...</td>\n",
       "      <td>Fractal Analytics</td>\n",
       "    </tr>\n",
       "    <tr>\n",
       "      <th>3</th>\n",
       "      <td>Lead Data Scientist - Prescriptive Analytics/P...</td>\n",
       "      <td>Hyderabad/Secunderabad, Bangalore/Bengaluru</td>\n",
       "      <td>Codersbrain</td>\n",
       "    </tr>\n",
       "    <tr>\n",
       "      <th>4</th>\n",
       "      <td>Lead Data Scientist - NLP/OpenCV</td>\n",
       "      <td>Hyderabad/Secunderabad, Bangalore/Bengaluru</td>\n",
       "      <td>Codersbrain</td>\n",
       "    </tr>\n",
       "    <tr>\n",
       "      <th>5</th>\n",
       "      <td>Lead - Data Analyst / Scientist</td>\n",
       "      <td>Bangalore/Bengaluru</td>\n",
       "      <td>Axim Technologies</td>\n",
       "    </tr>\n",
       "    <tr>\n",
       "      <th>6</th>\n",
       "      <td>Job opening with Wipro For Data Scientist</td>\n",
       "      <td>Hyderabad/Secunderabad, Pune, Chennai, Bangalo...</td>\n",
       "      <td>Wipro</td>\n",
       "    </tr>\n",
       "    <tr>\n",
       "      <th>7</th>\n",
       "      <td>Spark ML Data Scientist</td>\n",
       "      <td>Hyderabad/Secunderabad, Pune, Bangalore/Bengal...</td>\n",
       "      <td>Wipro</td>\n",
       "    </tr>\n",
       "    <tr>\n",
       "      <th>8</th>\n",
       "      <td>Spark ML Data Scientist</td>\n",
       "      <td>Hyderabad/Secunderabad, Pune, Bangalore/Bengaluru</td>\n",
       "      <td>Wipro</td>\n",
       "    </tr>\n",
       "    <tr>\n",
       "      <th>9</th>\n",
       "      <td>Senior Data Scientist - Logistics</td>\n",
       "      <td>Bangalore/Bengaluru</td>\n",
       "      <td>Gojek Tech</td>\n",
       "    </tr>\n",
       "  </tbody>\n",
       "</table>\n",
       "</div>"
      ],
      "text/plain": [
       "                                           job-title  \\\n",
       "0                   Lead/Senior Data Scientist (NLP)   \n",
       "1  Global Tax Automation & Operations | Data Scie...   \n",
       "2                              Senior Data Scientist   \n",
       "3  Lead Data Scientist - Prescriptive Analytics/P...   \n",
       "4                   Lead Data Scientist - NLP/OpenCV   \n",
       "5                    Lead - Data Analyst / Scientist   \n",
       "6          Job opening with Wipro For Data Scientist   \n",
       "7                            Spark ML Data Scientist   \n",
       "8                            Spark ML Data Scientist   \n",
       "9                  Senior Data Scientist - Logistics   \n",
       "\n",
       "                                        job-location  \\\n",
       "0            Bangalore/Bengaluru\\n(WFH during Covid)   \n",
       "1                                Bangalore/Bengaluru   \n",
       "2  Gurgaon/Gurugram, Bangalore/Bengaluru, Mumbai ...   \n",
       "3        Hyderabad/Secunderabad, Bangalore/Bengaluru   \n",
       "4        Hyderabad/Secunderabad, Bangalore/Bengaluru   \n",
       "5                                Bangalore/Bengaluru   \n",
       "6  Hyderabad/Secunderabad, Pune, Chennai, Bangalo...   \n",
       "7  Hyderabad/Secunderabad, Pune, Bangalore/Bengal...   \n",
       "8  Hyderabad/Secunderabad, Pune, Bangalore/Bengaluru   \n",
       "9                                Bangalore/Bengaluru   \n",
       "\n",
       "                company_name  \n",
       "0  Samya.AI A FRACTAL Entity  \n",
       "1                       Dell  \n",
       "2          Fractal Analytics  \n",
       "3                Codersbrain  \n",
       "4                Codersbrain  \n",
       "5          Axim Technologies  \n",
       "6                      Wipro  \n",
       "7                      Wipro  \n",
       "8                      Wipro  \n",
       "9                 Gojek Tech  "
      ]
     },
     "execution_count": 60,
     "metadata": {},
     "output_type": "execute_result"
    }
   ],
   "source": [
    "job"
   ]
  },
  {
   "cell_type": "markdown",
   "id": "05c0c8ee",
   "metadata": {},
   "source": [
    "### 3) In this question you have to scrape data using the filters available on the webpage as shown below: \n",
    "You have to use the location and salary filter.\n",
    "You have to scrape data for “Data Scientist” designation for first 10 job results.\n",
    "You have to scrape the job-title, job-location, company name, experience required.\n",
    "The location filter to be used is “Delhi/NCR”. The salary filter to be used is “3-6” lakhs\n",
    "The task will be done as shown in the below steps:\n",
    "1. first get the webpage https://www.naukri.com/\n",
    "2. Enter “Data Scientist” in “Skill, Designations, and Companies” field.\n",
    "3. Then click the search button.\n",
    "4. Then apply the location filter and salary filter by checking the respective boxes\n",
    "5. Then scrape the data for the first 10 jobs results you get.\n",
    "6. Finally create a dataframe of the scraped data"
   ]
  },
  {
   "cell_type": "code",
   "execution_count": 61,
   "id": "7944600e",
   "metadata": {},
   "outputs": [],
   "source": [
    "driver = webdriver.Chrome(r'E:\\Data science\\FLIPROBO\\web driver\\chromedriver.exe')"
   ]
  },
  {
   "cell_type": "code",
   "execution_count": 62,
   "id": "25ae43a4",
   "metadata": {},
   "outputs": [],
   "source": [
    "url = 'https://www.naukri.com/'\n",
    "driver.get(url)"
   ]
  },
  {
   "cell_type": "code",
   "execution_count": 63,
   "id": "995cf94f",
   "metadata": {},
   "outputs": [
    {
     "data": {
      "text/plain": [
       "<selenium.webdriver.remote.webelement.WebElement (session=\"025e8e3990010a88e531212baec6700d\", element=\"4938252e-78a6-4bf0-add6-5625cb823a28\")>"
      ]
     },
     "execution_count": 63,
     "metadata": {},
     "output_type": "execute_result"
    }
   ],
   "source": [
    "#finding web element for search job using id\n",
    "search_job = driver.find_element_by_id('qsb-keyword-sugg')\n",
    "search_job"
   ]
  },
  {
   "cell_type": "code",
   "execution_count": 64,
   "id": "e432bf8c",
   "metadata": {},
   "outputs": [],
   "source": [
    "search_job.send_keys('Data Scientist')"
   ]
  },
  {
   "cell_type": "code",
   "execution_count": 65,
   "id": "7d43e146",
   "metadata": {},
   "outputs": [
    {
     "data": {
      "text/plain": [
       "<selenium.webdriver.remote.webelement.WebElement (session=\"025e8e3990010a88e531212baec6700d\", element=\"2cf2bb11-b9d5-4bd3-b86e-2fc388d6ce11\")>"
      ]
     },
     "execution_count": 65,
     "metadata": {},
     "output_type": "execute_result"
    }
   ],
   "source": [
    "### finding web element for search location bar using absolute xpath\n",
    "search_locn = driver.find_element_by_xpath('/html/body/div[1]/div[3]/div[2]/section/div/form/div[2]/div/div/div/div[1]/div[2]/input')\n",
    "search_locn"
   ]
  },
  {
   "cell_type": "code",
   "execution_count": 66,
   "id": "0ae1c240",
   "metadata": {},
   "outputs": [],
   "source": [
    "search_locn.send_keys('Delhi/NCR')"
   ]
  },
  {
   "cell_type": "code",
   "execution_count": 67,
   "id": "175ff3d6",
   "metadata": {},
   "outputs": [
    {
     "data": {
      "text/plain": [
       "<selenium.webdriver.remote.webelement.WebElement (session=\"025e8e3990010a88e531212baec6700d\", element=\"ce0b0a71-8174-4af0-bbe9-3e03888c3e8e\")>"
      ]
     },
     "execution_count": 67,
     "metadata": {},
     "output_type": "execute_result"
    }
   ],
   "source": [
    "## clicking search button using absolute xpath function\n",
    "search_btn = driver.find_element_by_xpath('/html/body/div[1]/div[3]/div[2]/section/div/form/div[3]/button')\n",
    "search_btn"
   ]
  },
  {
   "cell_type": "code",
   "execution_count": 68,
   "id": "f9a319e9",
   "metadata": {},
   "outputs": [],
   "source": [
    "search_btn.click()"
   ]
  },
  {
   "cell_type": "markdown",
   "id": "4e47b8ad",
   "metadata": {},
   "source": [
    "##### clicking filters by selecting check boxes using absolute xpath"
   ]
  },
  {
   "cell_type": "code",
   "execution_count": 69,
   "id": "ddceae10",
   "metadata": {},
   "outputs": [
    {
     "data": {
      "text/plain": [
       "<selenium.webdriver.remote.webelement.WebElement (session=\"025e8e3990010a88e531212baec6700d\", element=\"4d0bba21-a26d-4570-b56e-279ec532d782\")>"
      ]
     },
     "execution_count": 69,
     "metadata": {},
     "output_type": "execute_result"
    }
   ],
   "source": [
    "salary_check = driver.find_element_by_xpath('/html/body/div[1]/div[3]/div[2]/section[1]/div[2]/div[4]/div[2]/div[2]/label/i')\n",
    "salary_check"
   ]
  },
  {
   "cell_type": "code",
   "execution_count": 70,
   "id": "d04278a3",
   "metadata": {},
   "outputs": [],
   "source": [
    "salary_check.click()"
   ]
  },
  {
   "cell_type": "markdown",
   "id": "7ef1c99c",
   "metadata": {},
   "source": [
    "### Extracting job titles"
   ]
  },
  {
   "cell_type": "code",
   "execution_count": 71,
   "id": "ae80d631",
   "metadata": {},
   "outputs": [
    {
     "name": "stdout",
     "output_type": "stream",
     "text": [
      "10\n",
      "['Data Scientist | Python | Machine Learning | Deep Learning- Fresher', 'Senior Data Scientist I', 'Openings For Jr/mid/Sr level data Scientists', 'Data Scientist role', 'Data Scientist role', 'Urgent Hiring For Data Scientist', 'Urgent Hiring For Data Scientist', 'Data Scientist Internship', 'Data Scientist', 'Data Scientist']\n"
     ]
    }
   ],
   "source": [
    "title = driver.find_elements_by_xpath('//a[@class=\"title fw500 ellipsis\"]')\n",
    "### now job_title is inside the title tag we will iterate over it to extract job_titles\n",
    "job_titles = []\n",
    "for i in title:\n",
    "    job_titles.append(i.text)\n",
    "    job_titles = job_titles[:10]\n",
    "print(len(job_titles))\n",
    "print(job_titles)"
   ]
  },
  {
   "cell_type": "markdown",
   "id": "969d10e2",
   "metadata": {},
   "source": [
    "### Extracting job-location"
   ]
  },
  {
   "cell_type": "code",
   "execution_count": 73,
   "id": "b90cbd8b",
   "metadata": {},
   "outputs": [
    {
     "name": "stdout",
     "output_type": "stream",
     "text": [
      "10\n",
      "['Noida, Gurgaon/Gurugram, Delhi / NCR', 'Gurgaon/Gurugram', 'Kolkata, Hyderabad/Secunderabad, Pune, Ahmedabad, Chennai, Bangalore/Bengaluru, Delhi / NCR, Mumbai (All Areas)\\n(WFH during Covid)', 'Noida, Hyderabad/Secunderabad, Pune, Gurgaon/Gurugram, Bangalore/Bengaluru, Delhi / NCR\\n(WFH during Covid)', 'Noida, Hyderabad/Secunderabad, Pune, Gurgaon/Gurugram, Bangalore/Bengaluru, Delhi / NCR\\n(WFH during Covid)', 'Gurgaon/Gurugram, Bangalore/Bengaluru', 'Gurgaon/Gurugram, Bangalore/Bengaluru', 'New Delhi', 'Noida, New Delhi, Faridabad, Gurgaon/Gurugram, Delhi / NCR', 'Gurgaon/Gurugram, Chennai']\n"
     ]
    }
   ],
   "source": [
    "locn = driver.find_elements_by_xpath('//li[@class=\"fleft grey-text br2 placeHolderLi location\"]')\n",
    "job_location = []\n",
    "for i in locn:\n",
    "    job_location.append(i.text)\n",
    "    job_location = job_location[:10]\n",
    "print(len(job_location))\n",
    "print(job_location)"
   ]
  },
  {
   "cell_type": "markdown",
   "id": "b100f49e",
   "metadata": {},
   "source": [
    "### Extracting Experience"
   ]
  },
  {
   "cell_type": "code",
   "execution_count": 74,
   "id": "91e10995",
   "metadata": {},
   "outputs": [
    {
     "name": "stdout",
     "output_type": "stream",
     "text": [
      "['0-3 Yrs', '3-7 Yrs', '2-6 Yrs', '1-3 Yrs', '1-3 Yrs', '1-6 Yrs', '1-6 Yrs', '0-1 Yrs', '0-2 Yrs', '4-9 Yrs']\n"
     ]
    }
   ],
   "source": [
    "Experience_required = driver.find_elements_by_xpath('//li[@class=\"fleft grey-text br2 placeHolderLi experience\"]')\n",
    "len(Experience_required)\n",
    "experience = []\n",
    "for i in Experience_required:\n",
    "    experience.append(i.text)\n",
    "    experience = experience[:10]\n",
    "print(experience)"
   ]
  },
  {
   "cell_type": "markdown",
   "id": "acfc265b",
   "metadata": {},
   "source": [
    "### Extracting Company name"
   ]
  },
  {
   "cell_type": "code",
   "execution_count": 75,
   "id": "04409f8e",
   "metadata": {},
   "outputs": [
    {
     "name": "stdout",
     "output_type": "stream",
     "text": [
      "['Schlesinger Group', 'Delhivery', 'Pluto seven business solutions (p) limited', 'Mount Talent Consulting Private Limited', 'Mount Talent Consulting Private Limited', 'Mount Talent Consulting Private Limited', 'Mount Talent Consulting Private Limited', 'iHackers Inc', 'LG', 'Teleperformance']\n"
     ]
    }
   ],
   "source": [
    "company_name = driver.find_elements_by_xpath('//a[@class=\"subTitle ellipsis fleft\"]')\n",
    "company_names = []\n",
    "for i in company_name:\n",
    "    company_names.append(i.text)\n",
    "    company_names=company_names[:10]\n",
    "print(company_names)"
   ]
  },
  {
   "cell_type": "code",
   "execution_count": 76,
   "id": "41dc4420",
   "metadata": {},
   "outputs": [],
   "source": [
    "job=pd.DataFrame()\n",
    "job['job-title'] = job_titles\n",
    "job['job-location'] = job_location\n",
    "job['company_name'] = company_names\n",
    "job['Experience_required'] = experience"
   ]
  },
  {
   "cell_type": "code",
   "execution_count": 77,
   "id": "b6d709f5",
   "metadata": {},
   "outputs": [
    {
     "data": {
      "text/html": [
       "<div>\n",
       "<style scoped>\n",
       "    .dataframe tbody tr th:only-of-type {\n",
       "        vertical-align: middle;\n",
       "    }\n",
       "\n",
       "    .dataframe tbody tr th {\n",
       "        vertical-align: top;\n",
       "    }\n",
       "\n",
       "    .dataframe thead th {\n",
       "        text-align: right;\n",
       "    }\n",
       "</style>\n",
       "<table border=\"1\" class=\"dataframe\">\n",
       "  <thead>\n",
       "    <tr style=\"text-align: right;\">\n",
       "      <th></th>\n",
       "      <th>job-title</th>\n",
       "      <th>job-location</th>\n",
       "      <th>company_name</th>\n",
       "      <th>Experience_required</th>\n",
       "    </tr>\n",
       "  </thead>\n",
       "  <tbody>\n",
       "    <tr>\n",
       "      <th>0</th>\n",
       "      <td>Data Scientist | Python | Machine Learning | D...</td>\n",
       "      <td>Noida, Gurgaon/Gurugram, Delhi / NCR</td>\n",
       "      <td>Schlesinger Group</td>\n",
       "      <td>0-3 Yrs</td>\n",
       "    </tr>\n",
       "    <tr>\n",
       "      <th>1</th>\n",
       "      <td>Senior Data Scientist I</td>\n",
       "      <td>Gurgaon/Gurugram</td>\n",
       "      <td>Delhivery</td>\n",
       "      <td>3-7 Yrs</td>\n",
       "    </tr>\n",
       "    <tr>\n",
       "      <th>2</th>\n",
       "      <td>Openings For Jr/mid/Sr level data Scientists</td>\n",
       "      <td>Kolkata, Hyderabad/Secunderabad, Pune, Ahmedab...</td>\n",
       "      <td>Pluto seven business solutions (p) limited</td>\n",
       "      <td>2-6 Yrs</td>\n",
       "    </tr>\n",
       "    <tr>\n",
       "      <th>3</th>\n",
       "      <td>Data Scientist role</td>\n",
       "      <td>Noida, Hyderabad/Secunderabad, Pune, Gurgaon/G...</td>\n",
       "      <td>Mount Talent Consulting Private Limited</td>\n",
       "      <td>1-3 Yrs</td>\n",
       "    </tr>\n",
       "    <tr>\n",
       "      <th>4</th>\n",
       "      <td>Data Scientist role</td>\n",
       "      <td>Noida, Hyderabad/Secunderabad, Pune, Gurgaon/G...</td>\n",
       "      <td>Mount Talent Consulting Private Limited</td>\n",
       "      <td>1-3 Yrs</td>\n",
       "    </tr>\n",
       "    <tr>\n",
       "      <th>5</th>\n",
       "      <td>Urgent Hiring For Data Scientist</td>\n",
       "      <td>Gurgaon/Gurugram, Bangalore/Bengaluru</td>\n",
       "      <td>Mount Talent Consulting Private Limited</td>\n",
       "      <td>1-6 Yrs</td>\n",
       "    </tr>\n",
       "    <tr>\n",
       "      <th>6</th>\n",
       "      <td>Urgent Hiring For Data Scientist</td>\n",
       "      <td>Gurgaon/Gurugram, Bangalore/Bengaluru</td>\n",
       "      <td>Mount Talent Consulting Private Limited</td>\n",
       "      <td>1-6 Yrs</td>\n",
       "    </tr>\n",
       "    <tr>\n",
       "      <th>7</th>\n",
       "      <td>Data Scientist Internship</td>\n",
       "      <td>New Delhi</td>\n",
       "      <td>iHackers Inc</td>\n",
       "      <td>0-1 Yrs</td>\n",
       "    </tr>\n",
       "    <tr>\n",
       "      <th>8</th>\n",
       "      <td>Data Scientist</td>\n",
       "      <td>Noida, New Delhi, Faridabad, Gurgaon/Gurugram,...</td>\n",
       "      <td>LG</td>\n",
       "      <td>0-2 Yrs</td>\n",
       "    </tr>\n",
       "    <tr>\n",
       "      <th>9</th>\n",
       "      <td>Data Scientist</td>\n",
       "      <td>Gurgaon/Gurugram, Chennai</td>\n",
       "      <td>Teleperformance</td>\n",
       "      <td>4-9 Yrs</td>\n",
       "    </tr>\n",
       "  </tbody>\n",
       "</table>\n",
       "</div>"
      ],
      "text/plain": [
       "                                           job-title  \\\n",
       "0  Data Scientist | Python | Machine Learning | D...   \n",
       "1                            Senior Data Scientist I   \n",
       "2       Openings For Jr/mid/Sr level data Scientists   \n",
       "3                                Data Scientist role   \n",
       "4                                Data Scientist role   \n",
       "5                   Urgent Hiring For Data Scientist   \n",
       "6                   Urgent Hiring For Data Scientist   \n",
       "7                          Data Scientist Internship   \n",
       "8                                     Data Scientist   \n",
       "9                                     Data Scientist   \n",
       "\n",
       "                                        job-location  \\\n",
       "0               Noida, Gurgaon/Gurugram, Delhi / NCR   \n",
       "1                                   Gurgaon/Gurugram   \n",
       "2  Kolkata, Hyderabad/Secunderabad, Pune, Ahmedab...   \n",
       "3  Noida, Hyderabad/Secunderabad, Pune, Gurgaon/G...   \n",
       "4  Noida, Hyderabad/Secunderabad, Pune, Gurgaon/G...   \n",
       "5              Gurgaon/Gurugram, Bangalore/Bengaluru   \n",
       "6              Gurgaon/Gurugram, Bangalore/Bengaluru   \n",
       "7                                          New Delhi   \n",
       "8  Noida, New Delhi, Faridabad, Gurgaon/Gurugram,...   \n",
       "9                          Gurgaon/Gurugram, Chennai   \n",
       "\n",
       "                                 company_name Experience_required  \n",
       "0                           Schlesinger Group             0-3 Yrs  \n",
       "1                                   Delhivery             3-7 Yrs  \n",
       "2  Pluto seven business solutions (p) limited             2-6 Yrs  \n",
       "3     Mount Talent Consulting Private Limited             1-3 Yrs  \n",
       "4     Mount Talent Consulting Private Limited             1-3 Yrs  \n",
       "5     Mount Talent Consulting Private Limited             1-6 Yrs  \n",
       "6     Mount Talent Consulting Private Limited             1-6 Yrs  \n",
       "7                                iHackers Inc             0-1 Yrs  \n",
       "8                                          LG             0-2 Yrs  \n",
       "9                             Teleperformance             4-9 Yrs  "
      ]
     },
     "execution_count": 77,
     "metadata": {},
     "output_type": "execute_result"
    }
   ],
   "source": [
    "job"
   ]
  },
  {
   "cell_type": "markdown",
   "id": "f42f195d",
   "metadata": {},
   "source": [
    "## 4)Q4: Scrape data of first 100 sunglasses listings on flipkart.com. You have to scrape four attributes:\n",
    "1. Brand\n",
    "2. Product Description\n",
    "3. Price\n",
    "The attributes which you have to scrape is ticked marked in the below image.\n",
    "To scrape the data you have to go through following steps:\n",
    "1. Go to Flipkart webpage by url : https://www.flipkart.com/\n",
    "2. Enter “sunglasses” in the search field where “search for products, brands andmore” is written and\n",
    "click the search icon\n",
    "3. After that you will reach to the page having a lot of sunglasses. From this pageyou can scrap the\n",
    "required data as usual.\n",
    "\n",
    "4. After scraping data from the first page, go to the “Next” Button at the bottom ofthe page , then\n",
    "click on it.\n",
    "5. Now scrape data from this page as usual\n",
    "6. Repeat this until you get data for 100 sunglasses"
   ]
  },
  {
   "cell_type": "code",
   "execution_count": 26,
   "id": "147d3e25",
   "metadata": {},
   "outputs": [],
   "source": [
    "driver = webdriver.Chrome(r'E:\\Data science\\FLIPROBO\\web driver\\chromedriver.exe')"
   ]
  },
  {
   "cell_type": "code",
   "execution_count": 27,
   "id": "f95a6b74",
   "metadata": {},
   "outputs": [],
   "source": [
    "url = 'https://www.flipkart.com/'\n",
    "driver.get(url)"
   ]
  },
  {
   "cell_type": "code",
   "execution_count": 28,
   "id": "4a562375",
   "metadata": {},
   "outputs": [
    {
     "data": {
      "text/plain": [
       "<selenium.webdriver.remote.webelement.WebElement (session=\"1a452eee09bf67ec24ea44e3e64f1bb8\", element=\"e2c66018-582d-4422-8e2b-c61e55755a5c\")>"
      ]
     },
     "execution_count": 28,
     "metadata": {},
     "output_type": "execute_result"
    }
   ],
   "source": [
    "### finding web element for search location bar using absolute xpath\n",
    "search_locn = driver.find_element_by_xpath('/html/body/div/div/div[1]/div[1]/div[2]/div[2]/form/div/div/input')\n",
    "search_locn"
   ]
  },
  {
   "cell_type": "code",
   "execution_count": 29,
   "id": "2e886fbe",
   "metadata": {},
   "outputs": [],
   "source": [
    "search_locn.send_keys('sunglasses')"
   ]
  },
  {
   "cell_type": "code",
   "execution_count": 30,
   "id": "a7f5b919",
   "metadata": {},
   "outputs": [
    {
     "data": {
      "text/plain": [
       "<selenium.webdriver.remote.webelement.WebElement (session=\"1a452eee09bf67ec24ea44e3e64f1bb8\", element=\"a25ea67c-9d7b-4985-8515-a60a9c83d6ae\")>"
      ]
     },
     "execution_count": 30,
     "metadata": {},
     "output_type": "execute_result"
    }
   ],
   "source": [
    "## clicking search button using absolute xpath function\n",
    "search_btn = driver.find_element_by_xpath('/html/body/div/div/div[1]/div[1]/div[2]/div[2]/form/div/button')\n",
    "search_btn"
   ]
  },
  {
   "cell_type": "code",
   "execution_count": 31,
   "id": "a8213df9",
   "metadata": {},
   "outputs": [],
   "source": [
    "search_btn.click()"
   ]
  },
  {
   "cell_type": "markdown",
   "id": "1e7525b2",
   "metadata": {},
   "source": [
    "## Extracting brand"
   ]
  },
  {
   "cell_type": "code",
   "execution_count": 32,
   "id": "89a4c337",
   "metadata": {},
   "outputs": [
    {
     "name": "stdout",
     "output_type": "stream",
     "text": [
      "40\n",
      "['ROZZETTA CRAFT', 'ROZZETTA CRAFT', 'SRPM', 'Fastrack', 'SHAAH COLLECTIONS', 'Elligator', 'PIRASO', 'ROZZETTA CRAFT', 'Fastrack', 'New Specs', 'kingsunglasses', 'ROZZETTA CRAFT', 'SUNBEE', 'ROZZETTA CRAFT', 'PHENOMENAL', 'Anemone', 'kingsunglasses', 'PIRASO', 'PIRASO', 'ROYAL SON', 'New Specs', 'SHAAH COLLECTIONS', 'ROZZETTA CRAFT', 'ROZZETTA CRAFT', 'Rich Club', 'Fastrack', 'ROYAL SON', 'ROYAL SON', 'PHENOMENAL', 'Johaena', 'PIRASO', 'ROZZETTA CRAFT', 'ROYAL SON', 'PIRASO', 'ROZZETTA CRAFT', 'ROZZETTA CRAFT', 'Rich Club', 'Fastrack', 'ROZZETTA CRAFT', 'ROYAL SON']\n"
     ]
    }
   ],
   "source": [
    "brand = driver.find_elements_by_xpath('//div[@class=\"_2WkVRV\"]')\n",
    "### now brand is inside the brand tag we will iterate over it to extract brands\n",
    "brand_sg = []\n",
    "for i in brand:\n",
    "    brand_sg.append(i.text)\n",
    "print(len(brand_sg))\n",
    "print(brand_sg)"
   ]
  },
  {
   "cell_type": "markdown",
   "id": "2b91bc21",
   "metadata": {},
   "source": [
    "## product description"
   ]
  },
  {
   "cell_type": "code",
   "execution_count": 33,
   "id": "cb80694a",
   "metadata": {},
   "outputs": [
    {
     "name": "stdout",
     "output_type": "stream",
     "text": [
      "40\n",
      "['ROZZETTA CRAFT', 'ROZZETTA CRAFT', 'SRPM', '₹759₹89915% off', 'SHAAH COLLECTIONS', 'Elligator', 'PIRASO', 'ROZZETTA CRAFT', '₹509₹79936% off', 'New Specs', 'kingsunglasses', 'ROZZETTA CRAFT', 'SUNBEE', 'ROZZETTA CRAFT', 'PHENOMENAL', 'Anemone', 'kingsunglasses', 'PIRASO', 'PIRASO', '₹664₹1,99966% off', 'New Specs', 'SHAAH COLLECTIONS', 'ROZZETTA CRAFT', 'UV Protection Aviator Sunglasses (Free Size)', 'Rich Club', '₹639₹79920% off', 'Mirrored Aviator Sunglasses (55)', '₹759₹1,99962% off', 'PHENOMENAL', 'Johaena', 'PIRASO', 'Polarized, Night Vision, Riding Glasses Sports, Wrap-ar...', 'UV Protection Rectangular Sunglasses (58)', 'PIRASO', 'ROZZETTA CRAFT', 'ROZZETTA CRAFT', 'Rich Club', '₹809₹89910% off', 'ROZZETTA CRAFT', '₹664₹1,49955% off']\n"
     ]
    }
   ],
   "source": [
    "product = driver.find_elements_by_xpath('//div[@class=\"_2B099V\"]')\n",
    "\n",
    "product_sg = []\n",
    "for i in product:\n",
    "    product_sg.append(i.text.split(\"\\n\")[-3])\n",
    "print(len(product_sg))\n",
    "print(product_sg)"
   ]
  },
  {
   "cell_type": "code",
   "execution_count": 34,
   "id": "c5456725",
   "metadata": {},
   "outputs": [
    {
     "name": "stdout",
     "output_type": "stream",
     "text": [
      "40\n",
      "['₹449', '₹499', '₹188', '₹759', '₹165', '₹248', '₹200', '₹499', '₹509', '₹259', '₹274', '₹499', '₹271', '₹383', '₹309', '₹499', '₹189', '₹190', '₹200', '₹664', '₹262', '₹181', '₹474', '₹649', '₹165', '₹639', '₹359', '₹759', '₹299', '₹156', '₹299', '₹499', '₹449', '₹200', '₹360', '₹426', '₹355', '₹809', '₹348', '₹664']\n"
     ]
    }
   ],
   "source": [
    "price = driver.find_elements_by_xpath('//div[@class=\"_30jeq3\"]')\n",
    "\n",
    "price_sg = []\n",
    "for i in price:\n",
    "    price_sg.append(i.text)\n",
    "    price_sg = price_sg\n",
    "print(len(price_sg))\n",
    "print(price_sg)"
   ]
  },
  {
   "cell_type": "code",
   "execution_count": 35,
   "id": "e886223d",
   "metadata": {},
   "outputs": [
    {
     "data": {
      "text/plain": [
       "<selenium.webdriver.remote.webelement.WebElement (session=\"1a452eee09bf67ec24ea44e3e64f1bb8\", element=\"61bebeb2-2c03-4a80-8d35-b9ea180123c7\")>"
      ]
     },
     "execution_count": 35,
     "metadata": {},
     "output_type": "execute_result"
    }
   ],
   "source": [
    "### clicking on next button \n",
    "next_btn = driver.find_element_by_xpath('/html/body/div/div/div[3]/div[1]/div[2]/div[12]/div/div/nav/a[11]/span')\n",
    "next_btn"
   ]
  },
  {
   "cell_type": "code",
   "execution_count": 36,
   "id": "4202b7f1",
   "metadata": {},
   "outputs": [],
   "source": [
    "next_btn.click()"
   ]
  },
  {
   "cell_type": "code",
   "execution_count": 37,
   "id": "f963ef6d",
   "metadata": {},
   "outputs": [
    {
     "name": "stdout",
     "output_type": "stream",
     "text": [
      "80\n",
      "['ROZZETTA CRAFT', 'ROZZETTA CRAFT', 'SRPM', 'Fastrack', 'SHAAH COLLECTIONS', 'Elligator', 'PIRASO', 'ROZZETTA CRAFT', 'Fastrack', 'New Specs', 'kingsunglasses', 'ROZZETTA CRAFT', 'SUNBEE', 'ROZZETTA CRAFT', 'PHENOMENAL', 'Anemone', 'kingsunglasses', 'PIRASO', 'PIRASO', 'ROYAL SON', 'New Specs', 'SHAAH COLLECTIONS', 'ROZZETTA CRAFT', 'ROZZETTA CRAFT', 'Rich Club', 'Fastrack', 'ROYAL SON', 'ROYAL SON', 'PHENOMENAL', 'Johaena', 'PIRASO', 'ROZZETTA CRAFT', 'ROYAL SON', 'PIRASO', 'ROZZETTA CRAFT', 'ROZZETTA CRAFT', 'Rich Club', 'Fastrack', 'ROZZETTA CRAFT', 'ROYAL SON', 'Lee Topper', 'kingsunglasses', 'PIRASO', 'Singco India', 'Singco India', 'kingsunglasses', 'SUNBEE', 'ZOSTAL', 'agera', 'ROYAL SON', 'kingsunglasses', 'VILLAIN', 'Elligator', 'PHENOMENAL', 'hipe', 'ROYAL SON', 'Fastrack', 'Fastrack', 'SUNBEE', 'ROYAL SON', 'Elligator', 'ROYAL SON', 'ROZZETTA CRAFT', 'ROYAL SON', 'Singco India', 'Elligator', 'ROYAL SON', \"Clark N' Palmer\", 'DEIXELS', 'Elligator', 'ROZZETTA CRAFT', 'ROZZETTA CRAFT', 'ROZZETTA CRAFT', 'GANSTA', 'ROYAL SON', 'ROYAL SON', 'maxa', 'Silver Kartz', 'PIRASO', 'ROYAL SON']\n"
     ]
    }
   ],
   "source": [
    "## Extracting brand name from 40-80\n",
    "brand = driver.find_elements_by_xpath('//div[@class=\"_2WkVRV\"]')\n",
    "for i in brand:\n",
    "    brand_sg.append(i.text)\n",
    "print(len(brand_sg))\n",
    "print(brand_sg)"
   ]
  },
  {
   "cell_type": "code",
   "execution_count": 38,
   "id": "a7971c19",
   "metadata": {},
   "outputs": [
    {
     "name": "stdout",
     "output_type": "stream",
     "text": [
      "80\n",
      "['ROZZETTA CRAFT', 'ROZZETTA CRAFT', 'SRPM', '₹759₹89915% off', 'SHAAH COLLECTIONS', 'Elligator', 'PIRASO', 'ROZZETTA CRAFT', '₹509₹79936% off', 'New Specs', 'kingsunglasses', 'ROZZETTA CRAFT', 'SUNBEE', 'ROZZETTA CRAFT', 'PHENOMENAL', 'Anemone', 'kingsunglasses', 'PIRASO', 'PIRASO', '₹664₹1,99966% off', 'New Specs', 'SHAAH COLLECTIONS', 'ROZZETTA CRAFT', 'UV Protection Aviator Sunglasses (Free Size)', 'Rich Club', '₹639₹79920% off', 'Mirrored Aviator Sunglasses (55)', '₹759₹1,99962% off', 'PHENOMENAL', 'Johaena', 'PIRASO', 'Polarized, Night Vision, Riding Glasses Sports, Wrap-ar...', 'UV Protection Rectangular Sunglasses (58)', 'PIRASO', 'ROZZETTA CRAFT', 'ROZZETTA CRAFT', 'Rich Club', '₹809₹89910% off', 'ROZZETTA CRAFT', '₹664₹1,49955% off', ['Lee Topper', 'Riding Glasses, Night Vision Wrap-around Sunglasses (Fr...', '₹276₹2,49988% off'], ['kingsunglasses', 'UV Protection, Riding Glasses, Mirrored Wayfarer Sungla...', '₹187₹1,19984% off'], ['PIRASO', 'UV Protection Butterfly Sunglasses (65)', '₹349₹2,59986% off'], ['Singco India', 'Gradient, Toughened Glass Lens, UV Protection Retro Squ...', '₹599₹2,99980% off', 'Free delivery', 'Lowest price since launch'], ['Singco India', 'Riding Glasses, UV Protection, Others Aviator Sunglasse...', '₹201₹1,49986% off', 'Buy 2 items, save extra 5%'], ['kingsunglasses', 'UV Protection, Night Vision Wayfarer Sunglasses (Free S...', '₹273₹1,69983% off'], ['SUNBEE', 'UV Protection, Polarized Wayfarer Sunglasses (Free Size...', '₹243₹1,29981% off'], ['ZOSTAL', 'UV Protection, Polarized Rectangular Sunglasses (Free S...', '₹173₹99982% off'], ['agera', 'Gradient Aviator Sunglasses (55)', '₹196₹1,14982% off', 'Deal of the Day'], ['ROYAL SON', 'Mirrored Aviator Sunglasses (Free Size)', '₹359₹1,49976% off', 'Deal of the Day'], ['kingsunglasses', 'UV Protection Round Sunglasses (Free Size)', '₹299₹1,59981% off'], ['VILLAIN', 'Others Wayfarer Sunglasses (Free Size)', '₹522₹99947% off', 'Free delivery'], ['Elligator', 'UV Protection Round Sunglasses (53)', '₹179₹1,49788% off'], ['PHENOMENAL', 'UV Protection, Mirrored Retro Square Sunglasses (53)', '₹299₹1,99985% off'], ['hipe', 'Mirrored, Gradient, UV Protection Aviator Sunglasses (5...', '₹178₹1,26685% off', 'Deal of the Day'], ['ROYAL SON', 'UV Protection Rectangular Sunglasses (Free Size)', '₹449₹1,49970% off', 'Deal of the Day'], ['Fastrack', 'UV Protection Aviator Sunglasses (58)', '₹1,089₹1,29916% off', 'Free delivery', 'Buy 2 items, save extra 5%'], ['Fastrack', 'Gradient, UV Protection Wayfarer Sunglasses (Free Size)', '₹659₹79917% off', 'Free delivery', 'Buy 2 items, save extra 5%'], ['SUNBEE', 'UV Protection, Polarized, Mirrored Wayfarer Sunglasses ...', '₹276₹1,29978% off'], ['ROYAL SON', 'Polarized, UV Protection Round Sunglasses (52)', '₹759₹1,99962% off', 'Free delivery', 'Deal of the Day'], ['Elligator', 'UV Protection Round Sunglasses (54)', '₹265₹1,29979% off'], ['ROYAL SON', 'UV Protection Retro Square Sunglasses (58)', '₹449₹1,49970% off', 'Deal of the Day'], ['ROZZETTA CRAFT', 'UV Protection, Gradient Round Sunglasses (Free Size)', '₹426₹1,99978% off'], ['ROYAL SON', 'Polarized, UV Protection Round Sunglasses (52)', '₹799₹1,99960% off', 'Free delivery'], ['Singco India', 'UV Protection, Riding Glasses, Others Aviator, Wayfarer...', '₹174₹69975% off', 'Lowest Price in 15 days'], ['Elligator', 'UV Protection Retro Square, Round Sunglasses (54)', '₹291₹1,99985% off'], ['ROYAL SON', 'Mirrored Aviator Sunglasses (55)', '₹359₹1,49976% off', 'Deal of the Day'], [\"Clark N' Palmer\", 'UV Protection Aviator Sunglasses (Free Size)', '₹499₹1,79972% off'], ['DEIXELS', 'UV Protection Aviator, Wayfarer Sunglasses (Free Size)', '₹202₹1,19983% off', 'Deal of the Day'], ['Elligator', 'UV Protection Round Sunglasses (55)', '₹239₹1,99688% off'], ['ROZZETTA CRAFT', 'Mirrored, UV Protection Round Sunglasses (Free Size)', '₹360₹1,44675% off'], ['ROZZETTA CRAFT', 'UV Protection Oval Sunglasses (Free Size)', '₹396₹1,99980% off'], ['ROZZETTA CRAFT', 'UV Protection, Gradient Retro Square Sunglasses (Free S...', '₹349₹1,99982% off'], ['GANSTA', 'UV Protection, Riding Glasses Wayfarer Sunglasses (53)', '₹209₹1,79988% off', 'Deal of the Day'], ['ROYAL SON', 'Mirrored Aviator Sunglasses (55)', '₹359₹1,49976% off', 'Deal of the Day'], ['ROYAL SON', 'UV Protection, Gradient Butterfly Sunglasses (60)', '₹664₹1,99966% off', 'Free delivery', 'Deal of the Day'], ['maxa', 'UV Protection, Riding Glasses Rectangular, Wayfarer, Ov...', '₹144₹69979% off', 'Lowest Price in 15 days'], ['Silver Kartz', 'UV Protection Wayfarer Sunglasses (Free Size)', '₹246₹1,49983% off', 'Deal of the Day'], ['PIRASO', 'UV Protection Aviator Sunglasses (Free Size)', '₹261₹1,59983% off'], ['ROYAL SON', 'UV Protection Retro Square Sunglasses (58)', '₹449₹1,49970% off', 'Deal of the Day']]\n"
     ]
    }
   ],
   "source": [
    "product2 = driver.find_elements_by_xpath('//div[@class=\"_2B099V\"]')\n",
    "for i in product2:\n",
    "    product_sg.append(i.text.split('\\n'))\n",
    "print(len(product_sg))\n",
    "print(product_sg)"
   ]
  },
  {
   "cell_type": "code",
   "execution_count": 39,
   "id": "15895eff",
   "metadata": {},
   "outputs": [
    {
     "name": "stdout",
     "output_type": "stream",
     "text": [
      "80\n",
      "['₹449', '₹499', '₹188', '₹759', '₹165', '₹248', '₹200', '₹499', '₹509', '₹259', '₹274', '₹499', '₹271', '₹383', '₹309', '₹499', '₹189', '₹190', '₹200', '₹664', '₹262', '₹181', '₹474', '₹649', '₹165', '₹639', '₹359', '₹759', '₹299', '₹156', '₹299', '₹499', '₹449', '₹200', '₹360', '₹426', '₹355', '₹809', '₹348', '₹664', '₹276', '₹187', '₹349', '₹599', '₹201', '₹273', '₹243', '₹173', '₹196', '₹359', '₹299', '₹522', '₹179', '₹299', '₹178', '₹449', '₹1,089', '₹659', '₹276', '₹759', '₹265', '₹449', '₹426', '₹799', '₹174', '₹291', '₹359', '₹499', '₹202', '₹239', '₹360', '₹396', '₹349', '₹209', '₹359', '₹664', '₹144', '₹246', '₹261', '₹449']\n"
     ]
    }
   ],
   "source": [
    "price2 = driver.find_elements_by_xpath('//div[@class=\"_30jeq3\"]')\n",
    "for i in price2:\n",
    "    price_sg.append(i.text)\n",
    "    price_sg = price_sg\n",
    "print(len(price_sg))\n",
    "print(price_sg)"
   ]
  },
  {
   "cell_type": "code",
   "execution_count": 40,
   "id": "680fb8e2",
   "metadata": {},
   "outputs": [
    {
     "data": {
      "text/plain": [
       "<selenium.webdriver.remote.webelement.WebElement (session=\"1a452eee09bf67ec24ea44e3e64f1bb8\", element=\"61bebeb2-2c03-4a80-8d35-b9ea180123c7\")>"
      ]
     },
     "execution_count": 40,
     "metadata": {},
     "output_type": "execute_result"
    }
   ],
   "source": [
    "### clicking on next button \n",
    "next_btn2 = driver.find_element_by_xpath('/html/body/div[1]/div/div[3]/div[1]/div[2]/div[12]/div/div/nav/a[12]/span')\n",
    "next_btn2"
   ]
  },
  {
   "cell_type": "code",
   "execution_count": 41,
   "id": "d86d178c",
   "metadata": {},
   "outputs": [],
   "source": [
    "next_btn2.click()"
   ]
  },
  {
   "cell_type": "code",
   "execution_count": 42,
   "id": "8670a2a5",
   "metadata": {},
   "outputs": [
    {
     "name": "stdout",
     "output_type": "stream",
     "text": [
      "120\n",
      "['ROZZETTA CRAFT', 'ROZZETTA CRAFT', 'SRPM', 'Fastrack', 'SHAAH COLLECTIONS', 'Elligator', 'PIRASO', 'ROZZETTA CRAFT', 'Fastrack', 'New Specs', 'kingsunglasses', 'ROZZETTA CRAFT', 'SUNBEE', 'ROZZETTA CRAFT', 'PHENOMENAL', 'Anemone', 'kingsunglasses', 'PIRASO', 'PIRASO', 'ROYAL SON', 'New Specs', 'SHAAH COLLECTIONS', 'ROZZETTA CRAFT', 'ROZZETTA CRAFT', 'Rich Club', 'Fastrack', 'ROYAL SON', 'ROYAL SON', 'PHENOMENAL', 'Johaena', 'PIRASO', 'ROZZETTA CRAFT', 'ROYAL SON', 'PIRASO', 'ROZZETTA CRAFT', 'ROZZETTA CRAFT', 'Rich Club', 'Fastrack', 'ROZZETTA CRAFT', 'ROYAL SON', 'Lee Topper', 'kingsunglasses', 'PIRASO', 'Singco India', 'Singco India', 'kingsunglasses', 'SUNBEE', 'ZOSTAL', 'agera', 'ROYAL SON', 'kingsunglasses', 'VILLAIN', 'Elligator', 'PHENOMENAL', 'hipe', 'ROYAL SON', 'Fastrack', 'Fastrack', 'SUNBEE', 'ROYAL SON', 'Elligator', 'ROYAL SON', 'ROZZETTA CRAFT', 'ROYAL SON', 'Singco India', 'Elligator', 'ROYAL SON', \"Clark N' Palmer\", 'DEIXELS', 'Elligator', 'ROZZETTA CRAFT', 'ROZZETTA CRAFT', 'ROZZETTA CRAFT', 'GANSTA', 'ROYAL SON', 'ROYAL SON', 'maxa', 'Silver Kartz', 'PIRASO', 'ROYAL SON', 'Lee Topper', 'SHAAH COLLECTIONS', 'Rich Club', 'New Specs', 'kingsunglasses', 'hipe', 'hipe', 'ROZZETTA CRAFT', 'Fastrack', 'Lee Topper', 'Fastrack', 'PHENOMENAL', 'New Specs', 'kingsunglasses', 'Rich Club', 'Fastrack', 'kingsunglasses', 'SRPM', 'Elligator', 'kingsunglasses', 'kingsunglasses', 'Poloport', 'ROZZETTA CRAFT', 'PHENOMENAL', 'ROYAL SON', 'Fravy', 'hipe', 'Fastrack', 'povty', 'Fastrack', 'Elligator', 'New Specs', 'Fastrack', 'AISLIN', 'PHENOMENAL', 'ROZZETTA CRAFT', 'Rich Club', 'Urbanic', 'GANSTA', 'kingsunglasses']\n"
     ]
    }
   ],
   "source": [
    "## Extracting brand name from 80-100\n",
    "brand3 = driver.find_elements_by_xpath('//div[@class=\"_2WkVRV\"]')\n",
    "for i in brand3:\n",
    "    brand_sg.append(i.text)\n",
    "print(len(brand_sg))\n",
    "print(brand_sg)'"
   ]
  },
  {
   "cell_type": "code",
   "execution_count": 44,
   "id": "b818b170",
   "metadata": {},
   "outputs": [
    {
     "name": "stdout",
     "output_type": "stream",
     "text": [
      "100\n"
     ]
    }
   ],
   "source": [
    "brand_sg = brand_sg[:100]\n",
    "print(len(brand_sg))"
   ]
  },
  {
   "cell_type": "code",
   "execution_count": 45,
   "id": "63b3c6e3",
   "metadata": {},
   "outputs": [
    {
     "name": "stdout",
     "output_type": "stream",
     "text": [
      "100\n"
     ]
    }
   ],
   "source": [
    "product3 = driver.find_elements_by_xpath('//div[@class=\"_2WkVRV\"]')\n",
    "for i in product3:\n",
    "    product_sg.append(i.text.split('\\n'))\n",
    "product_sg = product_sg[:100]\n",
    "print(len(product_sg))"
   ]
  },
  {
   "cell_type": "code",
   "execution_count": 46,
   "id": "d18ee395",
   "metadata": {},
   "outputs": [
    {
     "name": "stdout",
     "output_type": "stream",
     "text": [
      "100\n"
     ]
    }
   ],
   "source": [
    "price3 = driver.find_elements_by_xpath('//div[@class=\"_30jeq3\"]')\n",
    "for i in price3:\n",
    "    price_sg.append(i.text)\n",
    "price_sg = price_sg[:100]\n",
    "print(len(price_sg))"
   ]
  },
  {
   "cell_type": "code",
   "execution_count": 47,
   "id": "8dc371df",
   "metadata": {},
   "outputs": [
    {
     "data": {
      "text/html": [
       "<div>\n",
       "<style scoped>\n",
       "    .dataframe tbody tr th:only-of-type {\n",
       "        vertical-align: middle;\n",
       "    }\n",
       "\n",
       "    .dataframe tbody tr th {\n",
       "        vertical-align: top;\n",
       "    }\n",
       "\n",
       "    .dataframe thead th {\n",
       "        text-align: right;\n",
       "    }\n",
       "</style>\n",
       "<table border=\"1\" class=\"dataframe\">\n",
       "  <thead>\n",
       "    <tr style=\"text-align: right;\">\n",
       "      <th></th>\n",
       "      <th>Brand</th>\n",
       "      <th>Product description</th>\n",
       "      <th>Price</th>\n",
       "    </tr>\n",
       "  </thead>\n",
       "  <tbody>\n",
       "    <tr>\n",
       "      <th>0</th>\n",
       "      <td>ROZZETTA CRAFT</td>\n",
       "      <td>ROZZETTA CRAFT</td>\n",
       "      <td>₹449</td>\n",
       "    </tr>\n",
       "    <tr>\n",
       "      <th>1</th>\n",
       "      <td>ROZZETTA CRAFT</td>\n",
       "      <td>ROZZETTA CRAFT</td>\n",
       "      <td>₹499</td>\n",
       "    </tr>\n",
       "    <tr>\n",
       "      <th>2</th>\n",
       "      <td>SRPM</td>\n",
       "      <td>SRPM</td>\n",
       "      <td>₹188</td>\n",
       "    </tr>\n",
       "    <tr>\n",
       "      <th>3</th>\n",
       "      <td>Fastrack</td>\n",
       "      <td>₹759₹89915% off</td>\n",
       "      <td>₹759</td>\n",
       "    </tr>\n",
       "    <tr>\n",
       "      <th>4</th>\n",
       "      <td>SHAAH COLLECTIONS</td>\n",
       "      <td>SHAAH COLLECTIONS</td>\n",
       "      <td>₹165</td>\n",
       "    </tr>\n",
       "    <tr>\n",
       "      <th>...</th>\n",
       "      <td>...</td>\n",
       "      <td>...</td>\n",
       "      <td>...</td>\n",
       "    </tr>\n",
       "    <tr>\n",
       "      <th>95</th>\n",
       "      <td>Fastrack</td>\n",
       "      <td>[Fastrack]</td>\n",
       "      <td>₹899</td>\n",
       "    </tr>\n",
       "    <tr>\n",
       "      <th>96</th>\n",
       "      <td>kingsunglasses</td>\n",
       "      <td>[kingsunglasses]</td>\n",
       "      <td>₹192</td>\n",
       "    </tr>\n",
       "    <tr>\n",
       "      <th>97</th>\n",
       "      <td>SRPM</td>\n",
       "      <td>[SRPM]</td>\n",
       "      <td>₹207</td>\n",
       "    </tr>\n",
       "    <tr>\n",
       "      <th>98</th>\n",
       "      <td>Elligator</td>\n",
       "      <td>[Elligator]</td>\n",
       "      <td>₹266</td>\n",
       "    </tr>\n",
       "    <tr>\n",
       "      <th>99</th>\n",
       "      <td>kingsunglasses</td>\n",
       "      <td>[kingsunglasses]</td>\n",
       "      <td>₹258</td>\n",
       "    </tr>\n",
       "  </tbody>\n",
       "</table>\n",
       "<p>100 rows × 3 columns</p>\n",
       "</div>"
      ],
      "text/plain": [
       "                Brand Product description Price\n",
       "0      ROZZETTA CRAFT      ROZZETTA CRAFT  ₹449\n",
       "1      ROZZETTA CRAFT      ROZZETTA CRAFT  ₹499\n",
       "2                SRPM                SRPM  ₹188\n",
       "3            Fastrack     ₹759₹89915% off  ₹759\n",
       "4   SHAAH COLLECTIONS   SHAAH COLLECTIONS  ₹165\n",
       "..                ...                 ...   ...\n",
       "95           Fastrack          [Fastrack]  ₹899\n",
       "96     kingsunglasses    [kingsunglasses]  ₹192\n",
       "97               SRPM              [SRPM]  ₹207\n",
       "98          Elligator         [Elligator]  ₹266\n",
       "99     kingsunglasses    [kingsunglasses]  ₹258\n",
       "\n",
       "[100 rows x 3 columns]"
      ]
     },
     "execution_count": 47,
     "metadata": {},
     "output_type": "execute_result"
    }
   ],
   "source": [
    "Sunglasses=pd.DataFrame()\n",
    "Sunglasses['Brand'] = brand_sg\n",
    "Sunglasses['Product description'] = product_sg\n",
    "Sunglasses['Price'] = price_sg\n",
    "Sunglasses"
   ]
  },
  {
   "cell_type": "markdown",
   "id": "122618db",
   "metadata": {},
   "source": [
    "## Q5: Scrape 100 reviews data from flipkart.com for iphone11 phone. You have to go the link:\n",
    "https://www.flipkart.com/apple-iphone-11-black-64-gb-includes-earpods-power\u0002adapter/p/itm0f37c2240b217?pid=MOBFKCTSVZAXUHGR&lid=LSTMOBFKCTSVZAXUHGREPBFGI&marketplace.\n",
    "\n",
    "When you will open the above link you will reach to the below shown webpage .\n",
    "As shown in the above page you have to scrape the tick marked attributes.These are:\n",
    "1. Rating\n",
    "2. Review summary\n",
    "3. Full review\n",
    "4. You have to scrape this data for first 100 reviews."
   ]
  },
  {
   "cell_type": "code",
   "execution_count": 51,
   "id": "2977b4ea",
   "metadata": {},
   "outputs": [],
   "source": [
    "driver = webdriver.Chrome(r'E:\\Data science\\FLIPROBO\\web driver\\chromedriver.exe')"
   ]
  },
  {
   "cell_type": "code",
   "execution_count": 52,
   "id": "0d9c1fab",
   "metadata": {},
   "outputs": [],
   "source": [
    "url = 'https://www.flipkart.com/apple-iphone-11-black-64-gb-includes-earpods-power%02adapter/p/itm0f37c2240b217?pid=MOBFKCTSVZAXUHGR&lid=LSTMOBFKCTSVZAXUHGREPBFGI&marketplace'\n",
    "driver.get(url)"
   ]
  },
  {
   "cell_type": "code",
   "execution_count": 53,
   "id": "d84fa7da",
   "metadata": {},
   "outputs": [
    {
     "data": {
      "text/plain": [
       "<selenium.webdriver.remote.webelement.WebElement (session=\"86ffd5662be3da117a428f6a1c894044\", element=\"877163a0-c2d7-4289-b62c-467ee28f3458\")>"
      ]
     },
     "execution_count": 53,
     "metadata": {},
     "output_type": "execute_result"
    }
   ],
   "source": [
    "review_btn = driver.find_element_by_xpath('/html/body/div[1]/div/div[3]/div[1]/div[2]/div[7]/div/div/div[5]/div/a/div')\n",
    "review_btn"
   ]
  },
  {
   "cell_type": "code",
   "execution_count": 54,
   "id": "fca6a3f1",
   "metadata": {},
   "outputs": [],
   "source": [
    "review_btn.click()"
   ]
  },
  {
   "cell_type": "markdown",
   "id": "ac9f3373",
   "metadata": {},
   "source": [
    "### Rating "
   ]
  },
  {
   "cell_type": "code",
   "execution_count": 61,
   "id": "7eeaff53",
   "metadata": {},
   "outputs": [
    {
     "name": "stdout",
     "output_type": "stream",
     "text": [
      "100\n",
      "['5', '5', '5', '5', '5', '5', '5', '4', '5', '5', '5', '5', '5', '5', '5', '5', '5', '4', '5', '5', '5', '5', '5', '5', '5', '5', '5', '4', '5', '5', '5', '5', '5', '5', '5', '5', '5', '4', '5', '5', '5', '5', '5', '5', '5', '5', '5', '4', '5', '5', '5', '5', '5', '5', '5', '5', '5', '4', '5', '5', '5', '5', '5', '5', '5', '5', '5', '4', '5', '5', '5', '5', '5', '5', '5', '5', '5', '4', '5', '5', '5', '5', '5', '5', '5', '5', '5', '4', '5', '5', '5', '5', '5', '5', '5', '5', '5', '4', '5', '5']\n"
     ]
    }
   ],
   "source": [
    "Ratings=[]\n",
    "for i in range(0,10,1):\n",
    "    Rating_iphone = driver.find_elements_by_xpath('//div[@class=\"_3LWZlK _1BLPMq\"]')\n",
    "    for j in Rating_iphone:\n",
    "        Ratings.append(j.text)\n",
    "print(len(Ratings))\n",
    "print(Ratings)"
   ]
  },
  {
   "cell_type": "markdown",
   "id": "ddb898f9",
   "metadata": {},
   "source": [
    "### Review"
   ]
  },
  {
   "cell_type": "code",
   "execution_count": 64,
   "id": "eeb45a47",
   "metadata": {},
   "outputs": [
    {
     "name": "stdout",
     "output_type": "stream",
     "text": [
      "100\n",
      "['Brilliant', 'Simply awesome', 'Perfect product!', 'Best in the market!', 'Worth every penny', 'Fabulous!', 'Great product', 'Good choice', 'Worth every penny', 'Highly recommended', 'Brilliant', 'Simply awesome', 'Perfect product!', 'Best in the market!', 'Worth every penny', 'Fabulous!', 'Great product', 'Good choice', 'Worth every penny', 'Highly recommended', 'Brilliant', 'Simply awesome', 'Perfect product!', 'Best in the market!', 'Worth every penny', 'Fabulous!', 'Great product', 'Good choice', 'Worth every penny', 'Highly recommended', 'Brilliant', 'Simply awesome', 'Perfect product!', 'Best in the market!', 'Worth every penny', 'Fabulous!', 'Great product', 'Good choice', 'Worth every penny', 'Highly recommended', 'Brilliant', 'Simply awesome', 'Perfect product!', 'Best in the market!', 'Worth every penny', 'Fabulous!', 'Great product', 'Good choice', 'Worth every penny', 'Highly recommended', 'Brilliant', 'Simply awesome', 'Perfect product!', 'Best in the market!', 'Worth every penny', 'Fabulous!', 'Great product', 'Good choice', 'Worth every penny', 'Highly recommended', 'Brilliant', 'Simply awesome', 'Perfect product!', 'Best in the market!', 'Worth every penny', 'Fabulous!', 'Great product', 'Good choice', 'Worth every penny', 'Highly recommended', 'Brilliant', 'Simply awesome', 'Perfect product!', 'Best in the market!', 'Worth every penny', 'Fabulous!', 'Great product', 'Good choice', 'Worth every penny', 'Highly recommended', 'Brilliant', 'Simply awesome', 'Perfect product!', 'Best in the market!', 'Worth every penny', 'Fabulous!', 'Great product', 'Good choice', 'Worth every penny', 'Highly recommended', 'Brilliant', 'Simply awesome', 'Perfect product!', 'Best in the market!', 'Worth every penny', 'Fabulous!', 'Great product', 'Good choice', 'Worth every penny', 'Highly recommended']\n"
     ]
    }
   ],
   "source": [
    "Reviews = []\n",
    "for i in range(0,10,1):\n",
    "    Review_iphone = driver.find_elements_by_xpath('//p[@class=\"_2-N8zT\"]')\n",
    "    for j in Review_iphone:\n",
    "        Reviews.append(j.text)\n",
    "print(len(Reviews))\n",
    "print(Reviews)"
   ]
  },
  {
   "cell_type": "markdown",
   "id": "4a0e974e",
   "metadata": {},
   "source": [
    "### Full Review"
   ]
  },
  {
   "cell_type": "code",
   "execution_count": 65,
   "id": "63abfa52",
   "metadata": {},
   "outputs": [
    {
     "name": "stdout",
     "output_type": "stream",
     "text": [
      "100\n",
      "[['The Best Phone for the Money', '', 'The iPhone 11 offers superb cameras, a more durable design and excellent battery life for an affordable price.', '', 'Compelling ultra-wide camera', 'New Night mode is excellent', 'Long battery life'], ['Really satisfied with the Product I received... It’s totally genuine and the packaging was also really good so if ur planning to buy just go for it.'], ['Amazing phone with great cameras and better battery which gives you the best performance. I just love the camera .'], ['Great iPhone very snappy experience as apple kind. Upgraded from iPhone 7.', 'Pros', '-Camera top class', '- Battery top performed', '-Chipset no need to say as apple kind', '-Security as you expect from apple', '- Display super bright industry leading colour', 'accuracy and super responsive', '-Build quality as expect from apple sturdy', 'premium durable beautiful stylish.', '-Os most stable os in smartphone industry', '', 'Cons', '-No 5G', '-Display is not based on OLED technology', '-Charger headphones and 1 apple stic...', 'READ MORE'], ['Previously I was using one plus 3t it was a great phone', 'And then I decided to upgrade I am stuck between Samsung s10 plus or iPhone 11', 'I have seen the specs and everything were good except the display it’s somewhere between 720-1080 and it’s not even an amoled it’s an LCD display', 'But I decided to go with iPhone because I have never used an IOS device I have Been an android user from the past 9 years I ordered IPhone 11 (128gb) product red', 'My experience after using 3 weeks', '1. The delivery ...', 'READ MORE'], ['This is my first iOS phone. I am very happy with this product. Very much satisfied with this. I love this phone.'], ['Amazing Powerful and Durable Gadget.', '', 'I’m am very happy with the camera picture quality, Amazing face id unlocked in dark room, Strong battery with perfect screen size as you can carry easily in pocket. This is my third iPhone.', '', 'I shifted from android Samsung Note series to iPhone because of the strong build quality and peace of mind for next 3-4 years.', '', 'Don’t think to much just go for it and I suggest you to go for minimum 128gb variant or more 256gb.', '', 'I’ve attached my puppy pics and no fi...', 'READ MORE'], ['So far it’s been an AMAZING experience coming back to iOS after nearly a decade but it’s not as versatile as android though phone is sturdy dropped it accidentally a couple of times and nothing happened fortunately camera is awesome'], ['i11 is worthy to buy, too much happy with the product. Thank u flipkart I received the item on time..loved it..'], ['What a camera .....just awesome ..you can feel this iPhone just awesome . Good for gaming also ...try pubg in hd it’s just wow'], ['The Best Phone for the Money', '', 'The iPhone 11 offers superb cameras, a more durable design and excellent battery life for an affordable price.', '', 'Compelling ultra-wide camera', 'New Night mode is excellent', 'Long battery life'], ['Really satisfied with the Product I received... It’s totally genuine and the packaging was also really good so if ur planning to buy just go for it.'], ['Amazing phone with great cameras and better battery which gives you the best performance. I just love the camera .'], ['Great iPhone very snappy experience as apple kind. Upgraded from iPhone 7.', 'Pros', '-Camera top class', '- Battery top performed', '-Chipset no need to say as apple kind', '-Security as you expect from apple', '- Display super bright industry leading colour', 'accuracy and super responsive', '-Build quality as expect from apple sturdy', 'premium durable beautiful stylish.', '-Os most stable os in smartphone industry', '', 'Cons', '-No 5G', '-Display is not based on OLED technology', '-Charger headphones and 1 apple stic...', 'READ MORE'], ['Previously I was using one plus 3t it was a great phone', 'And then I decided to upgrade I am stuck between Samsung s10 plus or iPhone 11', 'I have seen the specs and everything were good except the display it’s somewhere between 720-1080 and it’s not even an amoled it’s an LCD display', 'But I decided to go with iPhone because I have never used an IOS device I have Been an android user from the past 9 years I ordered IPhone 11 (128gb) product red', 'My experience after using 3 weeks', '1. The delivery ...', 'READ MORE'], ['This is my first iOS phone. I am very happy with this product. Very much satisfied with this. I love this phone.'], ['Amazing Powerful and Durable Gadget.', '', 'I’m am very happy with the camera picture quality, Amazing face id unlocked in dark room, Strong battery with perfect screen size as you can carry easily in pocket. This is my third iPhone.', '', 'I shifted from android Samsung Note series to iPhone because of the strong build quality and peace of mind for next 3-4 years.', '', 'Don’t think to much just go for it and I suggest you to go for minimum 128gb variant or more 256gb.', '', 'I’ve attached my puppy pics and no fi...', 'READ MORE'], ['So far it’s been an AMAZING experience coming back to iOS after nearly a decade but it’s not as versatile as android though phone is sturdy dropped it accidentally a couple of times and nothing happened fortunately camera is awesome'], ['i11 is worthy to buy, too much happy with the product. Thank u flipkart I received the item on time..loved it..'], ['What a camera .....just awesome ..you can feel this iPhone just awesome . Good for gaming also ...try pubg in hd it’s just wow'], ['The Best Phone for the Money', '', 'The iPhone 11 offers superb cameras, a more durable design and excellent battery life for an affordable price.', '', 'Compelling ultra-wide camera', 'New Night mode is excellent', 'Long battery life'], ['Really satisfied with the Product I received... It’s totally genuine and the packaging was also really good so if ur planning to buy just go for it.'], ['Amazing phone with great cameras and better battery which gives you the best performance. I just love the camera .'], ['Great iPhone very snappy experience as apple kind. Upgraded from iPhone 7.', 'Pros', '-Camera top class', '- Battery top performed', '-Chipset no need to say as apple kind', '-Security as you expect from apple', '- Display super bright industry leading colour', 'accuracy and super responsive', '-Build quality as expect from apple sturdy', 'premium durable beautiful stylish.', '-Os most stable os in smartphone industry', '', 'Cons', '-No 5G', '-Display is not based on OLED technology', '-Charger headphones and 1 apple stic...', 'READ MORE'], ['Previously I was using one plus 3t it was a great phone', 'And then I decided to upgrade I am stuck between Samsung s10 plus or iPhone 11', 'I have seen the specs and everything were good except the display it’s somewhere between 720-1080 and it’s not even an amoled it’s an LCD display', 'But I decided to go with iPhone because I have never used an IOS device I have Been an android user from the past 9 years I ordered IPhone 11 (128gb) product red', 'My experience after using 3 weeks', '1. The delivery ...', 'READ MORE'], ['This is my first iOS phone. I am very happy with this product. Very much satisfied with this. I love this phone.'], ['Amazing Powerful and Durable Gadget.', '', 'I’m am very happy with the camera picture quality, Amazing face id unlocked in dark room, Strong battery with perfect screen size as you can carry easily in pocket. This is my third iPhone.', '', 'I shifted from android Samsung Note series to iPhone because of the strong build quality and peace of mind for next 3-4 years.', '', 'Don’t think to much just go for it and I suggest you to go for minimum 128gb variant or more 256gb.', '', 'I’ve attached my puppy pics and no fi...', 'READ MORE'], ['So far it’s been an AMAZING experience coming back to iOS after nearly a decade but it’s not as versatile as android though phone is sturdy dropped it accidentally a couple of times and nothing happened fortunately camera is awesome'], ['i11 is worthy to buy, too much happy with the product. Thank u flipkart I received the item on time..loved it..'], ['What a camera .....just awesome ..you can feel this iPhone just awesome . Good for gaming also ...try pubg in hd it’s just wow'], ['The Best Phone for the Money', '', 'The iPhone 11 offers superb cameras, a more durable design and excellent battery life for an affordable price.', '', 'Compelling ultra-wide camera', 'New Night mode is excellent', 'Long battery life'], ['Really satisfied with the Product I received... It’s totally genuine and the packaging was also really good so if ur planning to buy just go for it.'], ['Amazing phone with great cameras and better battery which gives you the best performance. I just love the camera .'], ['Great iPhone very snappy experience as apple kind. Upgraded from iPhone 7.', 'Pros', '-Camera top class', '- Battery top performed', '-Chipset no need to say as apple kind', '-Security as you expect from apple', '- Display super bright industry leading colour', 'accuracy and super responsive', '-Build quality as expect from apple sturdy', 'premium durable beautiful stylish.', '-Os most stable os in smartphone industry', '', 'Cons', '-No 5G', '-Display is not based on OLED technology', '-Charger headphones and 1 apple stic...', 'READ MORE'], ['Previously I was using one plus 3t it was a great phone', 'And then I decided to upgrade I am stuck between Samsung s10 plus or iPhone 11', 'I have seen the specs and everything were good except the display it’s somewhere between 720-1080 and it’s not even an amoled it’s an LCD display', 'But I decided to go with iPhone because I have never used an IOS device I have Been an android user from the past 9 years I ordered IPhone 11 (128gb) product red', 'My experience after using 3 weeks', '1. The delivery ...', 'READ MORE'], ['This is my first iOS phone. I am very happy with this product. Very much satisfied with this. I love this phone.'], ['Amazing Powerful and Durable Gadget.', '', 'I’m am very happy with the camera picture quality, Amazing face id unlocked in dark room, Strong battery with perfect screen size as you can carry easily in pocket. This is my third iPhone.', '', 'I shifted from android Samsung Note series to iPhone because of the strong build quality and peace of mind for next 3-4 years.', '', 'Don’t think to much just go for it and I suggest you to go for minimum 128gb variant or more 256gb.', '', 'I’ve attached my puppy pics and no fi...', 'READ MORE'], ['So far it’s been an AMAZING experience coming back to iOS after nearly a decade but it’s not as versatile as android though phone is sturdy dropped it accidentally a couple of times and nothing happened fortunately camera is awesome'], ['i11 is worthy to buy, too much happy with the product. Thank u flipkart I received the item on time..loved it..'], ['What a camera .....just awesome ..you can feel this iPhone just awesome . Good for gaming also ...try pubg in hd it’s just wow'], ['The Best Phone for the Money', '', 'The iPhone 11 offers superb cameras, a more durable design and excellent battery life for an affordable price.', '', 'Compelling ultra-wide camera', 'New Night mode is excellent', 'Long battery life'], ['Really satisfied with the Product I received... It’s totally genuine and the packaging was also really good so if ur planning to buy just go for it.'], ['Amazing phone with great cameras and better battery which gives you the best performance. I just love the camera .'], ['Great iPhone very snappy experience as apple kind. Upgraded from iPhone 7.', 'Pros', '-Camera top class', '- Battery top performed', '-Chipset no need to say as apple kind', '-Security as you expect from apple', '- Display super bright industry leading colour', 'accuracy and super responsive', '-Build quality as expect from apple sturdy', 'premium durable beautiful stylish.', '-Os most stable os in smartphone industry', '', 'Cons', '-No 5G', '-Display is not based on OLED technology', '-Charger headphones and 1 apple stic...', 'READ MORE'], ['Previously I was using one plus 3t it was a great phone', 'And then I decided to upgrade I am stuck between Samsung s10 plus or iPhone 11', 'I have seen the specs and everything were good except the display it’s somewhere between 720-1080 and it’s not even an amoled it’s an LCD display', 'But I decided to go with iPhone because I have never used an IOS device I have Been an android user from the past 9 years I ordered IPhone 11 (128gb) product red', 'My experience after using 3 weeks', '1. The delivery ...', 'READ MORE'], ['This is my first iOS phone. I am very happy with this product. Very much satisfied with this. I love this phone.'], ['Amazing Powerful and Durable Gadget.', '', 'I’m am very happy with the camera picture quality, Amazing face id unlocked in dark room, Strong battery with perfect screen size as you can carry easily in pocket. This is my third iPhone.', '', 'I shifted from android Samsung Note series to iPhone because of the strong build quality and peace of mind for next 3-4 years.', '', 'Don’t think to much just go for it and I suggest you to go for minimum 128gb variant or more 256gb.', '', 'I’ve attached my puppy pics and no fi...', 'READ MORE'], ['So far it’s been an AMAZING experience coming back to iOS after nearly a decade but it’s not as versatile as android though phone is sturdy dropped it accidentally a couple of times and nothing happened fortunately camera is awesome'], ['i11 is worthy to buy, too much happy with the product. Thank u flipkart I received the item on time..loved it..'], ['What a camera .....just awesome ..you can feel this iPhone just awesome . Good for gaming also ...try pubg in hd it’s just wow'], ['The Best Phone for the Money', '', 'The iPhone 11 offers superb cameras, a more durable design and excellent battery life for an affordable price.', '', 'Compelling ultra-wide camera', 'New Night mode is excellent', 'Long battery life'], ['Really satisfied with the Product I received... It’s totally genuine and the packaging was also really good so if ur planning to buy just go for it.'], ['Amazing phone with great cameras and better battery which gives you the best performance. I just love the camera .'], ['Great iPhone very snappy experience as apple kind. Upgraded from iPhone 7.', 'Pros', '-Camera top class', '- Battery top performed', '-Chipset no need to say as apple kind', '-Security as you expect from apple', '- Display super bright industry leading colour', 'accuracy and super responsive', '-Build quality as expect from apple sturdy', 'premium durable beautiful stylish.', '-Os most stable os in smartphone industry', '', 'Cons', '-No 5G', '-Display is not based on OLED technology', '-Charger headphones and 1 apple stic...', 'READ MORE'], ['Previously I was using one plus 3t it was a great phone', 'And then I decided to upgrade I am stuck between Samsung s10 plus or iPhone 11', 'I have seen the specs and everything were good except the display it’s somewhere between 720-1080 and it’s not even an amoled it’s an LCD display', 'But I decided to go with iPhone because I have never used an IOS device I have Been an android user from the past 9 years I ordered IPhone 11 (128gb) product red', 'My experience after using 3 weeks', '1. The delivery ...', 'READ MORE'], ['This is my first iOS phone. I am very happy with this product. Very much satisfied with this. I love this phone.'], ['Amazing Powerful and Durable Gadget.', '', 'I’m am very happy with the camera picture quality, Amazing face id unlocked in dark room, Strong battery with perfect screen size as you can carry easily in pocket. This is my third iPhone.', '', 'I shifted from android Samsung Note series to iPhone because of the strong build quality and peace of mind for next 3-4 years.', '', 'Don’t think to much just go for it and I suggest you to go for minimum 128gb variant or more 256gb.', '', 'I’ve attached my puppy pics and no fi...', 'READ MORE'], ['So far it’s been an AMAZING experience coming back to iOS after nearly a decade but it’s not as versatile as android though phone is sturdy dropped it accidentally a couple of times and nothing happened fortunately camera is awesome'], ['i11 is worthy to buy, too much happy with the product. Thank u flipkart I received the item on time..loved it..'], ['What a camera .....just awesome ..you can feel this iPhone just awesome . Good for gaming also ...try pubg in hd it’s just wow'], ['The Best Phone for the Money', '', 'The iPhone 11 offers superb cameras, a more durable design and excellent battery life for an affordable price.', '', 'Compelling ultra-wide camera', 'New Night mode is excellent', 'Long battery life'], ['Really satisfied with the Product I received... It’s totally genuine and the packaging was also really good so if ur planning to buy just go for it.'], ['Amazing phone with great cameras and better battery which gives you the best performance. I just love the camera .'], ['Great iPhone very snappy experience as apple kind. Upgraded from iPhone 7.', 'Pros', '-Camera top class', '- Battery top performed', '-Chipset no need to say as apple kind', '-Security as you expect from apple', '- Display super bright industry leading colour', 'accuracy and super responsive', '-Build quality as expect from apple sturdy', 'premium durable beautiful stylish.', '-Os most stable os in smartphone industry', '', 'Cons', '-No 5G', '-Display is not based on OLED technology', '-Charger headphones and 1 apple stic...', 'READ MORE'], ['Previously I was using one plus 3t it was a great phone', 'And then I decided to upgrade I am stuck between Samsung s10 plus or iPhone 11', 'I have seen the specs and everything were good except the display it’s somewhere between 720-1080 and it’s not even an amoled it’s an LCD display', 'But I decided to go with iPhone because I have never used an IOS device I have Been an android user from the past 9 years I ordered IPhone 11 (128gb) product red', 'My experience after using 3 weeks', '1. The delivery ...', 'READ MORE'], ['This is my first iOS phone. I am very happy with this product. Very much satisfied with this. I love this phone.'], ['Amazing Powerful and Durable Gadget.', '', 'I’m am very happy with the camera picture quality, Amazing face id unlocked in dark room, Strong battery with perfect screen size as you can carry easily in pocket. This is my third iPhone.', '', 'I shifted from android Samsung Note series to iPhone because of the strong build quality and peace of mind for next 3-4 years.', '', 'Don’t think to much just go for it and I suggest you to go for minimum 128gb variant or more 256gb.', '', 'I’ve attached my puppy pics and no fi...', 'READ MORE'], ['So far it’s been an AMAZING experience coming back to iOS after nearly a decade but it’s not as versatile as android though phone is sturdy dropped it accidentally a couple of times and nothing happened fortunately camera is awesome'], ['i11 is worthy to buy, too much happy with the product. Thank u flipkart I received the item on time..loved it..'], ['What a camera .....just awesome ..you can feel this iPhone just awesome . Good for gaming also ...try pubg in hd it’s just wow'], ['The Best Phone for the Money', '', 'The iPhone 11 offers superb cameras, a more durable design and excellent battery life for an affordable price.', '', 'Compelling ultra-wide camera', 'New Night mode is excellent', 'Long battery life'], ['Really satisfied with the Product I received... It’s totally genuine and the packaging was also really good so if ur planning to buy just go for it.'], ['Amazing phone with great cameras and better battery which gives you the best performance. I just love the camera .'], ['Great iPhone very snappy experience as apple kind. Upgraded from iPhone 7.', 'Pros', '-Camera top class', '- Battery top performed', '-Chipset no need to say as apple kind', '-Security as you expect from apple', '- Display super bright industry leading colour', 'accuracy and super responsive', '-Build quality as expect from apple sturdy', 'premium durable beautiful stylish.', '-Os most stable os in smartphone industry', '', 'Cons', '-No 5G', '-Display is not based on OLED technology', '-Charger headphones and 1 apple stic...', 'READ MORE'], ['Previously I was using one plus 3t it was a great phone', 'And then I decided to upgrade I am stuck between Samsung s10 plus or iPhone 11', 'I have seen the specs and everything were good except the display it’s somewhere between 720-1080 and it’s not even an amoled it’s an LCD display', 'But I decided to go with iPhone because I have never used an IOS device I have Been an android user from the past 9 years I ordered IPhone 11 (128gb) product red', 'My experience after using 3 weeks', '1. The delivery ...', 'READ MORE'], ['This is my first iOS phone. I am very happy with this product. Very much satisfied with this. I love this phone.'], ['Amazing Powerful and Durable Gadget.', '', 'I’m am very happy with the camera picture quality, Amazing face id unlocked in dark room, Strong battery with perfect screen size as you can carry easily in pocket. This is my third iPhone.', '', 'I shifted from android Samsung Note series to iPhone because of the strong build quality and peace of mind for next 3-4 years.', '', 'Don’t think to much just go for it and I suggest you to go for minimum 128gb variant or more 256gb.', '', 'I’ve attached my puppy pics and no fi...', 'READ MORE'], ['So far it’s been an AMAZING experience coming back to iOS after nearly a decade but it’s not as versatile as android though phone is sturdy dropped it accidentally a couple of times and nothing happened fortunately camera is awesome'], ['i11 is worthy to buy, too much happy with the product. Thank u flipkart I received the item on time..loved it..'], ['What a camera .....just awesome ..you can feel this iPhone just awesome . Good for gaming also ...try pubg in hd it’s just wow'], ['The Best Phone for the Money', '', 'The iPhone 11 offers superb cameras, a more durable design and excellent battery life for an affordable price.', '', 'Compelling ultra-wide camera', 'New Night mode is excellent', 'Long battery life'], ['Really satisfied with the Product I received... It’s totally genuine and the packaging was also really good so if ur planning to buy just go for it.'], ['Amazing phone with great cameras and better battery which gives you the best performance. I just love the camera .'], ['Great iPhone very snappy experience as apple kind. Upgraded from iPhone 7.', 'Pros', '-Camera top class', '- Battery top performed', '-Chipset no need to say as apple kind', '-Security as you expect from apple', '- Display super bright industry leading colour', 'accuracy and super responsive', '-Build quality as expect from apple sturdy', 'premium durable beautiful stylish.', '-Os most stable os in smartphone industry', '', 'Cons', '-No 5G', '-Display is not based on OLED technology', '-Charger headphones and 1 apple stic...', 'READ MORE'], ['Previously I was using one plus 3t it was a great phone', 'And then I decided to upgrade I am stuck between Samsung s10 plus or iPhone 11', 'I have seen the specs and everything were good except the display it’s somewhere between 720-1080 and it’s not even an amoled it’s an LCD display', 'But I decided to go with iPhone because I have never used an IOS device I have Been an android user from the past 9 years I ordered IPhone 11 (128gb) product red', 'My experience after using 3 weeks', '1. The delivery ...', 'READ MORE'], ['This is my first iOS phone. I am very happy with this product. Very much satisfied with this. I love this phone.'], ['Amazing Powerful and Durable Gadget.', '', 'I’m am very happy with the camera picture quality, Amazing face id unlocked in dark room, Strong battery with perfect screen size as you can carry easily in pocket. This is my third iPhone.', '', 'I shifted from android Samsung Note series to iPhone because of the strong build quality and peace of mind for next 3-4 years.', '', 'Don’t think to much just go for it and I suggest you to go for minimum 128gb variant or more 256gb.', '', 'I’ve attached my puppy pics and no fi...', 'READ MORE'], ['So far it’s been an AMAZING experience coming back to iOS after nearly a decade but it’s not as versatile as android though phone is sturdy dropped it accidentally a couple of times and nothing happened fortunately camera is awesome'], ['i11 is worthy to buy, too much happy with the product. Thank u flipkart I received the item on time..loved it..'], ['What a camera .....just awesome ..you can feel this iPhone just awesome . Good for gaming also ...try pubg in hd it’s just wow'], ['The Best Phone for the Money', '', 'The iPhone 11 offers superb cameras, a more durable design and excellent battery life for an affordable price.', '', 'Compelling ultra-wide camera', 'New Night mode is excellent', 'Long battery life'], ['Really satisfied with the Product I received... It’s totally genuine and the packaging was also really good so if ur planning to buy just go for it.'], ['Amazing phone with great cameras and better battery which gives you the best performance. I just love the camera .'], ['Great iPhone very snappy experience as apple kind. Upgraded from iPhone 7.', 'Pros', '-Camera top class', '- Battery top performed', '-Chipset no need to say as apple kind', '-Security as you expect from apple', '- Display super bright industry leading colour', 'accuracy and super responsive', '-Build quality as expect from apple sturdy', 'premium durable beautiful stylish.', '-Os most stable os in smartphone industry', '', 'Cons', '-No 5G', '-Display is not based on OLED technology', '-Charger headphones and 1 apple stic...', 'READ MORE'], ['Previously I was using one plus 3t it was a great phone', 'And then I decided to upgrade I am stuck between Samsung s10 plus or iPhone 11', 'I have seen the specs and everything were good except the display it’s somewhere between 720-1080 and it’s not even an amoled it’s an LCD display', 'But I decided to go with iPhone because I have never used an IOS device I have Been an android user from the past 9 years I ordered IPhone 11 (128gb) product red', 'My experience after using 3 weeks', '1. The delivery ...', 'READ MORE'], ['This is my first iOS phone. I am very happy with this product. Very much satisfied with this. I love this phone.'], ['Amazing Powerful and Durable Gadget.', '', 'I’m am very happy with the camera picture quality, Amazing face id unlocked in dark room, Strong battery with perfect screen size as you can carry easily in pocket. This is my third iPhone.', '', 'I shifted from android Samsung Note series to iPhone because of the strong build quality and peace of mind for next 3-4 years.', '', 'Don’t think to much just go for it and I suggest you to go for minimum 128gb variant or more 256gb.', '', 'I’ve attached my puppy pics and no fi...', 'READ MORE'], ['So far it’s been an AMAZING experience coming back to iOS after nearly a decade but it’s not as versatile as android though phone is sturdy dropped it accidentally a couple of times and nothing happened fortunately camera is awesome'], ['i11 is worthy to buy, too much happy with the product. Thank u flipkart I received the item on time..loved it..'], ['What a camera .....just awesome ..you can feel this iPhone just awesome . Good for gaming also ...try pubg in hd it’s just wow']]\n"
     ]
    }
   ],
   "source": [
    "full_reviews = []\n",
    "for i in range(0,10,1):\n",
    "    full_review_iphone = driver.find_elements_by_xpath('//div[@class=\"t-ZTKy\"]')\n",
    "    for j in full_review_iphone:\n",
    "        full_reviews.append(j.text.split('\\n'))\n",
    "print(len(full_reviews))\n",
    "print(full_reviews)"
   ]
  },
  {
   "cell_type": "code",
   "execution_count": 66,
   "id": "ff4d17d4",
   "metadata": {},
   "outputs": [],
   "source": [
    "iphone = pd.DataFrame()\n",
    "iphone['Ratings'] = Ratings\n",
    "iphone['Reviews'] = Reviews\n",
    "iphone['Full Review'] = full_reviews"
   ]
  },
  {
   "cell_type": "code",
   "execution_count": 67,
   "id": "8f58cca5",
   "metadata": {},
   "outputs": [
    {
     "data": {
      "text/html": [
       "<div>\n",
       "<style scoped>\n",
       "    .dataframe tbody tr th:only-of-type {\n",
       "        vertical-align: middle;\n",
       "    }\n",
       "\n",
       "    .dataframe tbody tr th {\n",
       "        vertical-align: top;\n",
       "    }\n",
       "\n",
       "    .dataframe thead th {\n",
       "        text-align: right;\n",
       "    }\n",
       "</style>\n",
       "<table border=\"1\" class=\"dataframe\">\n",
       "  <thead>\n",
       "    <tr style=\"text-align: right;\">\n",
       "      <th></th>\n",
       "      <th>Ratings</th>\n",
       "      <th>Reviews</th>\n",
       "      <th>Full Review</th>\n",
       "    </tr>\n",
       "  </thead>\n",
       "  <tbody>\n",
       "    <tr>\n",
       "      <th>0</th>\n",
       "      <td>5</td>\n",
       "      <td>Brilliant</td>\n",
       "      <td>[The Best Phone for the Money, , The iPhone 11...</td>\n",
       "    </tr>\n",
       "    <tr>\n",
       "      <th>1</th>\n",
       "      <td>5</td>\n",
       "      <td>Simply awesome</td>\n",
       "      <td>[Really satisfied with the Product I received....</td>\n",
       "    </tr>\n",
       "    <tr>\n",
       "      <th>2</th>\n",
       "      <td>5</td>\n",
       "      <td>Perfect product!</td>\n",
       "      <td>[Amazing phone with great cameras and better b...</td>\n",
       "    </tr>\n",
       "    <tr>\n",
       "      <th>3</th>\n",
       "      <td>5</td>\n",
       "      <td>Best in the market!</td>\n",
       "      <td>[Great iPhone very snappy experience as apple ...</td>\n",
       "    </tr>\n",
       "    <tr>\n",
       "      <th>4</th>\n",
       "      <td>5</td>\n",
       "      <td>Worth every penny</td>\n",
       "      <td>[Previously I was using one plus 3t it was a g...</td>\n",
       "    </tr>\n",
       "    <tr>\n",
       "      <th>...</th>\n",
       "      <td>...</td>\n",
       "      <td>...</td>\n",
       "      <td>...</td>\n",
       "    </tr>\n",
       "    <tr>\n",
       "      <th>95</th>\n",
       "      <td>5</td>\n",
       "      <td>Fabulous!</td>\n",
       "      <td>[This is my first iOS phone. I am very happy w...</td>\n",
       "    </tr>\n",
       "    <tr>\n",
       "      <th>96</th>\n",
       "      <td>5</td>\n",
       "      <td>Great product</td>\n",
       "      <td>[Amazing Powerful and Durable Gadget., , I’m a...</td>\n",
       "    </tr>\n",
       "    <tr>\n",
       "      <th>97</th>\n",
       "      <td>4</td>\n",
       "      <td>Good choice</td>\n",
       "      <td>[So far it’s been an AMAZING experience coming...</td>\n",
       "    </tr>\n",
       "    <tr>\n",
       "      <th>98</th>\n",
       "      <td>5</td>\n",
       "      <td>Worth every penny</td>\n",
       "      <td>[i11 is worthy to buy, too much happy with the...</td>\n",
       "    </tr>\n",
       "    <tr>\n",
       "      <th>99</th>\n",
       "      <td>5</td>\n",
       "      <td>Highly recommended</td>\n",
       "      <td>[What a camera .....just awesome ..you can fee...</td>\n",
       "    </tr>\n",
       "  </tbody>\n",
       "</table>\n",
       "<p>100 rows × 3 columns</p>\n",
       "</div>"
      ],
      "text/plain": [
       "   Ratings              Reviews  \\\n",
       "0        5            Brilliant   \n",
       "1        5       Simply awesome   \n",
       "2        5     Perfect product!   \n",
       "3        5  Best in the market!   \n",
       "4        5    Worth every penny   \n",
       "..     ...                  ...   \n",
       "95       5            Fabulous!   \n",
       "96       5        Great product   \n",
       "97       4          Good choice   \n",
       "98       5    Worth every penny   \n",
       "99       5   Highly recommended   \n",
       "\n",
       "                                          Full Review  \n",
       "0   [The Best Phone for the Money, , The iPhone 11...  \n",
       "1   [Really satisfied with the Product I received....  \n",
       "2   [Amazing phone with great cameras and better b...  \n",
       "3   [Great iPhone very snappy experience as apple ...  \n",
       "4   [Previously I was using one plus 3t it was a g...  \n",
       "..                                                ...  \n",
       "95  [This is my first iOS phone. I am very happy w...  \n",
       "96  [Amazing Powerful and Durable Gadget., , I’m a...  \n",
       "97  [So far it’s been an AMAZING experience coming...  \n",
       "98  [i11 is worthy to buy, too much happy with the...  \n",
       "99  [What a camera .....just awesome ..you can fee...  \n",
       "\n",
       "[100 rows x 3 columns]"
      ]
     },
     "execution_count": 67,
     "metadata": {},
     "output_type": "execute_result"
    }
   ],
   "source": [
    "iphone"
   ]
  },
  {
   "cell_type": "markdown",
   "id": "8a4855df",
   "metadata": {},
   "source": [
    "## 6)Scrape data for first 100 sneakers you find when you visit -\n",
    "flipkart.com and search for “sneakers” in the\n",
    "search field.\n",
    "You have to scrape 4 attributes of each sneaker:\n",
    "1. Brand\n",
    "2. Product Description\n",
    "3. Price\n",
    "As shown in the below image, you have to scrape the tick marked attributes"
   ]
  },
  {
   "cell_type": "code",
   "execution_count": 80,
   "id": "3f412293",
   "metadata": {},
   "outputs": [],
   "source": [
    "driver = webdriver.Chrome(r'E:\\Data science\\FLIPROBO\\web driver\\chromedriver.exe')"
   ]
  },
  {
   "cell_type": "code",
   "execution_count": 81,
   "id": "db47281f",
   "metadata": {},
   "outputs": [],
   "source": [
    "url ='https://www.flipkart.com/'\n",
    "driver.get(url)"
   ]
  },
  {
   "cell_type": "code",
   "execution_count": 82,
   "id": "ac39c5a5",
   "metadata": {},
   "outputs": [
    {
     "data": {
      "text/plain": [
       "<selenium.webdriver.remote.webelement.WebElement (session=\"7ec1fd7391e14c5e7db035ebde872952\", element=\"accbb9a7-8c8c-4c1b-92d9-1d46b422eddc\")>"
      ]
     },
     "execution_count": 82,
     "metadata": {},
     "output_type": "execute_result"
    }
   ],
   "source": [
    "search = driver.find_element_by_xpath('/html/body/div[1]/div/div[1]/div[1]/div[2]/div[2]/form/div/div/input')\n",
    "search"
   ]
  },
  {
   "cell_type": "code",
   "execution_count": 83,
   "id": "40f70e03",
   "metadata": {},
   "outputs": [],
   "source": [
    "search.send_keys('sneakers')"
   ]
  },
  {
   "cell_type": "code",
   "execution_count": 87,
   "id": "3bd54f5e",
   "metadata": {},
   "outputs": [
    {
     "data": {
      "text/plain": [
       "<selenium.webdriver.remote.webelement.WebElement (session=\"7ec1fd7391e14c5e7db035ebde872952\", element=\"849d965a-7f70-4ef7-8476-83d2d0eb4366\")>"
      ]
     },
     "execution_count": 87,
     "metadata": {},
     "output_type": "execute_result"
    }
   ],
   "source": [
    "search_btn = driver.find_element_by_xpath('/html/body/div[1]/div/div[1]/div[1]/div[2]/div[2]/form/div/button')\n",
    "search_btn"
   ]
  },
  {
   "cell_type": "code",
   "execution_count": 88,
   "id": "50af18d0",
   "metadata": {},
   "outputs": [],
   "source": [
    "search_btn.click()"
   ]
  },
  {
   "cell_type": "markdown",
   "id": "824000a4",
   "metadata": {},
   "source": [
    "### Extracting Brand"
   ]
  },
  {
   "cell_type": "code",
   "execution_count": 94,
   "id": "7e5e40e3",
   "metadata": {},
   "outputs": [
    {
     "name": "stdout",
     "output_type": "stream",
     "text": [
      "100\n",
      "['DUNKASTON', 'Robbie jones', 'Magnolia', 'luxury fashion', 'ASTEROID', 'Stefano Rads', 'URBANBOX', 'Robbie jones', 'Labbin', 'Extoes', 'BRUTON', 'Robbie jones', 'D-SNEAKERZ', 'PUMA', 'SCATCHITE', 'MILESWALKER', 'TR', 'Kraasa', 'Echor', 'K- FOOTLANCE', 'PUMA', 'HOTSTYLE', 'Trendmode', 'GVR', 'RapidBox', 'Numenzo', 'Shoes Bank', \"Neeman's\", 'Rzisbo', 'Numenzo', 'Kraasa', 'JACK & JONES', 'Lee Won', 'Robbie jones', 'BIRDE', 'CLAXA', 'DUNKASTON', 'India hub', 'ganpati traders', 'RED TAPE', 'DUNKASTON', 'Robbie jones', 'Magnolia', 'luxury fashion', 'ASTEROID', 'Stefano Rads', 'URBANBOX', 'Robbie jones', 'Labbin', 'Extoes', 'BRUTON', 'Robbie jones', 'D-SNEAKERZ', 'PUMA', 'SCATCHITE', 'MILESWALKER', 'TR', 'Kraasa', 'Echor', 'K- FOOTLANCE', 'PUMA', 'HOTSTYLE', 'Trendmode', 'GVR', 'RapidBox', 'Numenzo', 'Shoes Bank', \"Neeman's\", 'Rzisbo', 'Numenzo', 'Kraasa', 'JACK & JONES', 'Lee Won', 'Robbie jones', 'BIRDE', 'CLAXA', 'DUNKASTON', 'India hub', 'ganpati traders', 'RED TAPE', 'DUNKASTON', 'Robbie jones', 'Magnolia', 'luxury fashion', 'ASTEROID', 'Stefano Rads', 'URBANBOX', 'Robbie jones', 'Labbin', 'Extoes', 'BRUTON', 'Robbie jones', 'D-SNEAKERZ', 'PUMA', 'SCATCHITE', 'MILESWALKER', 'TR', 'Kraasa', 'Echor', 'K- FOOTLANCE']\n"
     ]
    }
   ],
   "source": [
    "Brand_sneakers = []\n",
    "for i in 0,1,2:\n",
    "    brand = driver.find_elements_by_xpath('//div[@class=\"_2WkVRV\"]')\n",
    "    for j in brand:\n",
    "        Brand_sneakers.append(j.text)\n",
    "        i=+1\n",
    "Brand_sneakers = Brand_sneakers[:100]\n",
    "print(len(Brand_sneakers))\n",
    "print(Brand_sneakers)"
   ]
  },
  {
   "cell_type": "markdown",
   "id": "74233bb5",
   "metadata": {},
   "source": [
    "### Extracting Product descrpition"
   ]
  },
  {
   "cell_type": "code",
   "execution_count": 98,
   "id": "ef08bc43",
   "metadata": {},
   "outputs": [
    {
     "name": "stdout",
     "output_type": "stream",
     "text": [
      "100\n",
      "['Sneakers For Men', 'Sneakers For Men', 'Sneakers For Men', 'Luxury Fashionable casual sneaker shoes Sneakers For Me...', \"Original Luxury Branded Fashionable Men's Casual Walkin...\", 'Casual Sneakers Shoes For Men Sneakers For Men', 'Sneakers For Men', 'Modern Trendy Shoes Combo pack of 4 Sneakers For Men', 'Modern Trendy Shoes Sneakers For Men', 'Casual Sneakers Shoes For Men And Boys Sneakers For Men', \"Casual , Partywear Sneakers Shoes For Men's And Boys Wh...\", 'Glory Sneakers For Men', 'Sneakers Sneakers For Men', 'Sneakers For Men Sneakers For Men', 'Sneakers For Men', 'Series 7 Sneakers For Men', \"Men's Sneakers Fashion Lightweight Running Shoes Tennis...\", 'Sneakers For Men', 'Glory Sneakers For Men', 'Sneakers For Men', 'Sneakers For Men', 'Sneakers For Men', '411 Casual Sneakers For Men', \"White Sneaker For Men's/Boy's Sneakers For Men\", 'Sneakers For Men', 'Sneakers For Men', 'White Sneaker For Men Sneakers For Men', 'Shark-41 Sneakers For Men', 'Casual Sneakers Black Shoes For Men Sneakers For Men', 'Sports Running Shoes Sneakers For Men', 'Luxury Fashionable casual sneaker shoes Sneakers For Me...', 'Sneakers For Men', 'Sneakers For Men', 'Sneakers For Men', 'Sneakers For Men', 'Luxury Fashionable casual sneaker shoes Sneakers For Me...', \"Original Luxury Branded Fashionable Men's Casual Walkin...\", 'Casual Sneakers Shoes For Men Sneakers For Men', 'Sneakers For Men', 'Modern Trendy Shoes Combo pack of 4 Sneakers For Men', 'Modern Trendy Shoes Sneakers For Men', 'Casual Sneakers Shoes For Men And Boys Sneakers For Men', \"Casual , Partywear Sneakers Shoes For Men's And Boys Wh...\", 'Glory Sneakers For Men', 'Sneakers Sneakers For Men', 'Sneakers For Men Sneakers For Men', 'Sneakers For Men', 'Series 7 Sneakers For Men', \"Men's Sneakers Fashion Lightweight Running Shoes Tennis...\", 'Sneakers For Men', 'Glory Sneakers For Men', 'Sneakers For Men', 'Sneakers For Men', 'Sneakers For Men', '411 Casual Sneakers For Men', \"White Sneaker For Men's/Boy's Sneakers For Men\", 'Sneakers For Men', 'Sneakers For Men', 'White Sneaker For Men Sneakers For Men', 'Shark-41 Sneakers For Men', 'Casual Sneakers Black Shoes For Men Sneakers For Men', 'Sports Running Shoes Sneakers For Men', 'Luxury Fashionable casual sneaker shoes Sneakers For Me...', 'Sneakers For Men', 'Sneakers For Men', 'Sneakers For Men', 'Sneakers For Men', 'Luxury Fashionable casual sneaker shoes Sneakers For Me...', \"Original Luxury Branded Fashionable Men's Casual Walkin...\", 'Casual Sneakers Shoes For Men Sneakers For Men', 'Sneakers For Men', 'Modern Trendy Shoes Combo pack of 4 Sneakers For Men', 'Modern Trendy Shoes Sneakers For Men', 'Casual Sneakers Shoes For Men And Boys Sneakers For Men', \"Casual , Partywear Sneakers Shoes For Men's And Boys Wh...\", 'Glory Sneakers For Men', 'Sneakers Sneakers For Men', 'Sneakers For Men Sneakers For Men', 'Sneakers For Men', 'Series 7 Sneakers For Men', \"Men's Sneakers Fashion Lightweight Running Shoes Tennis...\", 'Sneakers For Men', 'Glory Sneakers For Men', 'Sneakers For Men', 'Sneakers For Men', 'Sneakers For Men', '411 Casual Sneakers For Men', \"White Sneaker For Men's/Boy's Sneakers For Men\", 'Sneakers For Men', 'Sneakers For Men', 'White Sneaker For Men Sneakers For Men', 'Shark-41 Sneakers For Men', 'Casual Sneakers Black Shoes For Men Sneakers For Men', 'Sports Running Shoes Sneakers For Men', 'Luxury Fashionable casual sneaker shoes Sneakers For Me...', 'Sneakers For Men', 'Sneakers For Men', 'Sneakers For Men', 'Sneakers For Men', 'Luxury Fashionable casual sneaker shoes Sneakers For Me...']\n"
     ]
    }
   ],
   "source": [
    "product_descrpition = []\n",
    "for i in 0,1,2,3:\n",
    "    product = driver.find_elements_by_xpath('//a[@class=\"IRpwTa\"]')\n",
    "    for j in product:\n",
    "        product_descrpition.append(j.text)\n",
    "product_descrpition = product_descrpition[:100]\n",
    "print(len(product_descrpition))\n",
    "print(product_descrpition)"
   ]
  },
  {
   "cell_type": "code",
   "execution_count": 100,
   "id": "3a43d7cd",
   "metadata": {},
   "outputs": [
    {
     "name": "stdout",
     "output_type": "stream",
     "text": [
      "100\n",
      "['₹449', '₹474', '₹398', '₹449', '₹499', '₹242', '₹247', '₹449', '₹499', '₹898', '₹399', '₹474', '₹348', '₹2,984', '₹398', '₹399', '₹599', '₹499', '₹499', '₹359', '₹2,984', '₹298', '₹259', '₹549', '₹680', '₹426', '₹331', '₹2,399', '₹549', '₹407', '₹499', '₹1,999', '₹299', '₹451', '₹299', '₹549', '₹499', '₹499', '₹189', '₹1,431', '₹449', '₹474', '₹398', '₹449', '₹499', '₹242', '₹247', '₹449', '₹499', '₹898', '₹399', '₹474', '₹348', '₹2,984', '₹398', '₹399', '₹599', '₹499', '₹499', '₹359', '₹2,984', '₹298', '₹259', '₹549', '₹680', '₹426', '₹331', '₹2,399', '₹549', '₹407', '₹499', '₹1,999', '₹299', '₹451', '₹299', '₹549', '₹499', '₹499', '₹189', '₹1,431', '₹449', '₹474', '₹398', '₹449', '₹499', '₹242', '₹247', '₹449', '₹499', '₹898', '₹399', '₹474', '₹348', '₹2,984', '₹398', '₹399', '₹599', '₹499', '₹499', '₹359']\n"
     ]
    }
   ],
   "source": [
    "price = []\n",
    "for i in range(0,4):\n",
    "    price_tag = driver.find_elements_by_xpath('//div[@class=\"_30jeq3\"]')\n",
    "    for j in price_tag:\n",
    "        price.append(j.text)\n",
    "        i+=1\n",
    "price=price[:100]\n",
    "print(len(price))\n",
    "print(price)"
   ]
  },
  {
   "cell_type": "code",
   "execution_count": 103,
   "id": "2a093d2d",
   "metadata": {},
   "outputs": [
    {
     "name": "stdout",
     "output_type": "stream",
     "text": [
      "100\n",
      "['70% ', '52% ', '60% ', '65% ', '50% ', '65% ', '75% ', '55% ', '50% ', '40% ', '69% ', '52% ', '47% ', '60% ', '60% ', '70% ', '50% ', '50% ', '64% ', '70% ', '74% ', '45% ', '31% ', '78% ', '66% ', '20% ', '45% ', '68% ', '50% ', '20% ', '40% ', '54% ', '40% ', '65% ', '66% ', '61% ', '62% ', '69% ', '70% ', '52% ', '60% ', '65% ', '50% ', '65% ', '75% ', '55% ', '50% ', '40% ', '69% ', '52% ', '47% ', '60% ', '60% ', '70% ', '50% ', '50% ', '64% ', '70% ', '74% ', '45% ', '31% ', '78% ', '66% ', '20% ', '45% ', '68% ', '50% ', '20% ', '40% ', '54% ', '40% ', '65% ', '66% ', '61% ', '62% ', '69% ', '70% ', '52% ', '60% ', '65% ', '50% ', '65% ', '75% ', '55% ', '50% ', '40% ', '69% ', '52% ', '47% ', '60% ', '60% ', '70% ', '50% ', '50% ', '64% ', '70% ', '74% ', '45% ', '31% ', '78% ']\n"
     ]
    }
   ],
   "source": [
    "discount = []\n",
    "for i in range(0,4):\n",
    "    discount_tag = driver.find_elements_by_xpath('//div[@class=\"_3Ay6Sb\"]')\n",
    "    for j in discount_tag:\n",
    "        discount.append(j.text.replace(\"off\",\"\"))\n",
    "discount=discount[:100]\n",
    "print(len(discount))\n",
    "print(discount)"
   ]
  },
  {
   "cell_type": "code",
   "execution_count": 104,
   "id": "ca82e2f8",
   "metadata": {},
   "outputs": [
    {
     "data": {
      "text/html": [
       "<div>\n",
       "<style scoped>\n",
       "    .dataframe tbody tr th:only-of-type {\n",
       "        vertical-align: middle;\n",
       "    }\n",
       "\n",
       "    .dataframe tbody tr th {\n",
       "        vertical-align: top;\n",
       "    }\n",
       "\n",
       "    .dataframe thead th {\n",
       "        text-align: right;\n",
       "    }\n",
       "</style>\n",
       "<table border=\"1\" class=\"dataframe\">\n",
       "  <thead>\n",
       "    <tr style=\"text-align: right;\">\n",
       "      <th></th>\n",
       "      <th>Brand</th>\n",
       "      <th>Product description</th>\n",
       "      <th>Price</th>\n",
       "      <th>Discount</th>\n",
       "    </tr>\n",
       "  </thead>\n",
       "  <tbody>\n",
       "    <tr>\n",
       "      <th>0</th>\n",
       "      <td>DUNKASTON</td>\n",
       "      <td>Sneakers For Men</td>\n",
       "      <td>₹449</td>\n",
       "      <td>70%</td>\n",
       "    </tr>\n",
       "    <tr>\n",
       "      <th>1</th>\n",
       "      <td>Robbie jones</td>\n",
       "      <td>Sneakers For Men</td>\n",
       "      <td>₹474</td>\n",
       "      <td>52%</td>\n",
       "    </tr>\n",
       "    <tr>\n",
       "      <th>2</th>\n",
       "      <td>Magnolia</td>\n",
       "      <td>Sneakers For Men</td>\n",
       "      <td>₹398</td>\n",
       "      <td>60%</td>\n",
       "    </tr>\n",
       "    <tr>\n",
       "      <th>3</th>\n",
       "      <td>luxury fashion</td>\n",
       "      <td>Luxury Fashionable casual sneaker shoes Sneake...</td>\n",
       "      <td>₹449</td>\n",
       "      <td>65%</td>\n",
       "    </tr>\n",
       "    <tr>\n",
       "      <th>4</th>\n",
       "      <td>ASTEROID</td>\n",
       "      <td>Original Luxury Branded Fashionable Men's Casu...</td>\n",
       "      <td>₹499</td>\n",
       "      <td>50%</td>\n",
       "    </tr>\n",
       "    <tr>\n",
       "      <th>...</th>\n",
       "      <td>...</td>\n",
       "      <td>...</td>\n",
       "      <td>...</td>\n",
       "      <td>...</td>\n",
       "    </tr>\n",
       "    <tr>\n",
       "      <th>95</th>\n",
       "      <td>MILESWALKER</td>\n",
       "      <td>Sneakers For Men</td>\n",
       "      <td>₹399</td>\n",
       "      <td>70%</td>\n",
       "    </tr>\n",
       "    <tr>\n",
       "      <th>96</th>\n",
       "      <td>TR</td>\n",
       "      <td>Sneakers For Men</td>\n",
       "      <td>₹599</td>\n",
       "      <td>74%</td>\n",
       "    </tr>\n",
       "    <tr>\n",
       "      <th>97</th>\n",
       "      <td>Kraasa</td>\n",
       "      <td>Sneakers For Men</td>\n",
       "      <td>₹499</td>\n",
       "      <td>45%</td>\n",
       "    </tr>\n",
       "    <tr>\n",
       "      <th>98</th>\n",
       "      <td>Echor</td>\n",
       "      <td>Sneakers For Men</td>\n",
       "      <td>₹499</td>\n",
       "      <td>31%</td>\n",
       "    </tr>\n",
       "    <tr>\n",
       "      <th>99</th>\n",
       "      <td>K- FOOTLANCE</td>\n",
       "      <td>Luxury Fashionable casual sneaker shoes Sneake...</td>\n",
       "      <td>₹359</td>\n",
       "      <td>78%</td>\n",
       "    </tr>\n",
       "  </tbody>\n",
       "</table>\n",
       "<p>100 rows × 4 columns</p>\n",
       "</div>"
      ],
      "text/plain": [
       "             Brand                                Product description Price  \\\n",
       "0        DUNKASTON                                   Sneakers For Men  ₹449   \n",
       "1     Robbie jones                                   Sneakers For Men  ₹474   \n",
       "2         Magnolia                                   Sneakers For Men  ₹398   \n",
       "3   luxury fashion  Luxury Fashionable casual sneaker shoes Sneake...  ₹449   \n",
       "4         ASTEROID  Original Luxury Branded Fashionable Men's Casu...  ₹499   \n",
       "..             ...                                                ...   ...   \n",
       "95     MILESWALKER                                   Sneakers For Men  ₹399   \n",
       "96              TR                                   Sneakers For Men  ₹599   \n",
       "97          Kraasa                                   Sneakers For Men  ₹499   \n",
       "98           Echor                                   Sneakers For Men  ₹499   \n",
       "99    K- FOOTLANCE  Luxury Fashionable casual sneaker shoes Sneake...  ₹359   \n",
       "\n",
       "   Discount  \n",
       "0      70%   \n",
       "1      52%   \n",
       "2      60%   \n",
       "3      65%   \n",
       "4      50%   \n",
       "..      ...  \n",
       "95     70%   \n",
       "96     74%   \n",
       "97     45%   \n",
       "98     31%   \n",
       "99     78%   \n",
       "\n",
       "[100 rows x 4 columns]"
      ]
     },
     "execution_count": 104,
     "metadata": {},
     "output_type": "execute_result"
    }
   ],
   "source": [
    "sneakers = pd.DataFrame()\n",
    "sneakers['Brand'] = Brand_sneakers\n",
    "sneakers['Product description'] = product_descrpition\n",
    "sneakers['Price'] = price\n",
    "sneakers['Discount'] = discount\n",
    "sneakers"
   ]
  },
  {
   "cell_type": "markdown",
   "id": "83ba3acc",
   "metadata": {},
   "source": [
    "### Q7: Go to the link -\n",
    "https://www.myntra.com/shoes\n",
    "\n",
    "Set Price filter to “Rs. 7149 to Rs. 14099 ” , Color filter to “Black”, as shown in the below image.\n",
    "And then scrape First 100 shoes data you get. The data should include “Brand” of the shoes , Short Shoe\n",
    "description, price of the shoe"
   ]
  },
  {
   "cell_type": "code",
   "execution_count": 110,
   "id": "3ecfc5ca",
   "metadata": {},
   "outputs": [],
   "source": [
    "driver =  webdriver.Chrome(r'E:\\Data science\\FLIPROBO\\web driver\\chromedriver.exe')"
   ]
  },
  {
   "cell_type": "code",
   "execution_count": 111,
   "id": "c5293f84",
   "metadata": {},
   "outputs": [],
   "source": [
    "url = 'https://www.myntra.com/shoes'\n",
    "driver.get(url)"
   ]
  },
  {
   "cell_type": "code",
   "execution_count": 112,
   "id": "757e9b7a",
   "metadata": {},
   "outputs": [],
   "source": [
    "price_filter = driver.find_element_by_xpath('/html/body/div[2]/div/div[1]/main/div[3]/div[1]/section/div/div[5]/ul/li[2]/label/div')\n",
    "price_filter.click()"
   ]
  },
  {
   "cell_type": "code",
   "execution_count": 113,
   "id": "fd1a09c4",
   "metadata": {},
   "outputs": [],
   "source": [
    "##color filter\n",
    "color_filter = driver.find_element_by_xpath('/html/body/div[2]/div/div[1]/main/div[3]/div[1]/section/div/div[6]/ul/li[1]/label/div')\n",
    "color_filter.click()"
   ]
  },
  {
   "cell_type": "markdown",
   "id": "0e508170",
   "metadata": {},
   "source": [
    "#### now scrapping data "
   ]
  },
  {
   "cell_type": "markdown",
   "id": "ace1f75a",
   "metadata": {},
   "source": [
    "## Brand"
   ]
  },
  {
   "cell_type": "code",
   "execution_count": 115,
   "id": "1e2365ed",
   "metadata": {},
   "outputs": [
    {
     "name": "stdout",
     "output_type": "stream",
     "text": [
      "100\n",
      "['Puma', 'Puma', 'Hush Puppies', 'Saint G', 'Calvin Klein', 'RARE RABBIT', 'Puma', 'MANGO', 'DAVINCHI', 'Bugatti', 'Bugatti', 'Bugatti', 'Saint G', 'ASICS', 'Clarks', 'Geox', 'J.FONTINI', 'DAVINCHI', 'RARE RABBIT', 'Heel & Buckle London', 'MANGO', 'Saint G', 'Saint G', 'Saint G', 'Geox', 'Puma', 'Tommy Hilfiger', 'Columbia', 'Cole Haan', 'Xtep', 'J.FONTINI', 'J.FONTINI', 'DAVINCHI', 'Geox', 'DAVINCHI', 'Geox', 'Geox', 'DAVINCHI', 'Pavers England', 'Saint G', 'Geox', 'Cole Haan', 'Geox', 'Cole Haan', 'DAVINCHI', 'Pavers England', 'Saint G', 'Saint G', 'Saint G', 'Saint G', 'Puma', 'Puma', 'Hush Puppies', 'Saint G', 'Calvin Klein', 'RARE RABBIT', 'Puma', 'MANGO', 'DAVINCHI', 'Bugatti', 'Bugatti', 'Bugatti', 'Saint G', 'ASICS', 'Clarks', 'Geox', 'J.FONTINI', 'DAVINCHI', 'RARE RABBIT', 'Heel & Buckle London', 'MANGO', 'Saint G', 'Saint G', 'Saint G', 'Geox', 'Puma', 'Tommy Hilfiger', 'Columbia', 'Cole Haan', 'Xtep', 'J.FONTINI', 'J.FONTINI', 'DAVINCHI', 'Geox', 'DAVINCHI', 'Geox', 'Geox', 'DAVINCHI', 'Pavers England', 'Saint G', 'Geox', 'Cole Haan', 'Geox', 'Cole Haan', 'DAVINCHI', 'Pavers England', 'Saint G', 'Saint G', 'Saint G', 'Saint G']\n"
     ]
    }
   ],
   "source": [
    "brand = []\n",
    "for i in range(0,5,1):\n",
    "    brand_tag = driver.find_elements_by_xpath('//h3[@class=\"product-brand\"]')\n",
    "    for j in brand_tag:\n",
    "        brand.append(j.text)\n",
    "brand = brand[:100]\n",
    "print(len(brand))\n",
    "print(brand)"
   ]
  },
  {
   "cell_type": "markdown",
   "id": "50352e33",
   "metadata": {},
   "source": [
    "### Short shoe description"
   ]
  },
  {
   "cell_type": "code",
   "execution_count": 117,
   "id": "b0c4116d",
   "metadata": {},
   "outputs": [
    {
     "name": "stdout",
     "output_type": "stream",
     "text": [
      "100\n",
      "['Men Running Shoes', 'Men Magnify Nitro Running', 'Men Solid Leather Formal Slip-Ons', 'Men Mid-Top Chelsea Boots', 'Men Solid Suede Sneakers', 'Men Leather Flat Boots', 'Women Magnify Nitro Shoes', 'Women WovenDesign Sports Shoes', 'Men Solid Leather Formal Derbys', 'Men Textured Leather High-Top Flat Boots', 'Men Running Shoes', 'Men Black Walking Shoes', 'Women Leather Heeled Boots', 'Men Colourblocked PU Sneakers', 'Men Solid Formal Leather Derbys', 'Men Leather Flat Boots', 'Men Textured Leather Loafers', 'Men Textured Formal Leather Loafers', 'Men Textured Leather Loafers', 'Men Formal Leather Derby', 'Women Leather Penny Loafers', 'Suede High-Top Flatform Heeled Boots', 'Leather Platform Heeled Boots', 'Embellished Leather Block Heeled Boots', 'Women Leather Pumps', 'Women Velocity NITRO Runners', 'Women Hybrid Leather Sneakers', 'PEAKFREAK OUTDRY Trekking Shoe', 'Men GENERATION ZEROGRAND STITCHLITE', 'Men Running Shoes', 'Men Textured Leather Loafers', 'Men Black Leather Loafers', 'Ustraa black', 'Men Leather Loafers', 'Men Formal Leather Slip-Ons', 'Women Solid Leather Pumps', 'Women Solid Leather Pumps', 'Men Textured Formal Leather Loafers', 'Men Leather Driving Shoes', 'Men Leather Chelsea Boots', 'Men Leather Formal Derbys', 'Women Open Toe Flats', 'Women Solid Leather Ballerinas', 'Women Solid Leather Ballerinas', 'Men Textured Leather Formal Slip-Ons', 'Men Solid Leather Formal Loafers', 'Leather Block Heeled Boots', 'Leather Wedge Heeled Boots with Buckles', 'Leather Kitten Heeled Boots', 'Leather Block Heeled Boots with Bows', 'Men Running Shoes', 'Men Magnify Nitro Running', 'Men Solid Leather Formal Slip-Ons', 'Men Mid-Top Chelsea Boots', 'Men Solid Suede Sneakers', 'Men Leather Flat Boots', 'Women Magnify Nitro Shoes', 'Women WovenDesign Sports Shoes', 'Men Solid Leather Formal Derbys', 'Men Textured Leather High-Top Flat Boots', 'Men Running Shoes', 'Men Black Walking Shoes', 'Women Leather Heeled Boots', 'Men Colourblocked PU Sneakers', 'Men Solid Formal Leather Derbys', 'Men Leather Flat Boots', 'Men Textured Leather Loafers', 'Men Textured Formal Leather Loafers', 'Men Textured Leather Loafers', 'Men Formal Leather Derby', 'Women Leather Penny Loafers', 'Suede High-Top Flatform Heeled Boots', 'Leather Platform Heeled Boots', 'Embellished Leather Block Heeled Boots', 'Women Leather Pumps', 'Women Velocity NITRO Runners', 'Women Hybrid Leather Sneakers', 'PEAKFREAK OUTDRY Trekking Shoe', 'Men GENERATION ZEROGRAND STITCHLITE', 'Men Running Shoes', 'Men Textured Leather Loafers', 'Men Black Leather Loafers', 'Ustraa black', 'Men Leather Loafers', 'Men Formal Leather Slip-Ons', 'Women Solid Leather Pumps', 'Women Solid Leather Pumps', 'Men Textured Formal Leather Loafers', 'Men Leather Driving Shoes', 'Men Leather Chelsea Boots', 'Men Leather Formal Derbys', 'Women Open Toe Flats', 'Women Solid Leather Ballerinas', 'Women Solid Leather Ballerinas', 'Men Textured Leather Formal Slip-Ons', 'Men Solid Leather Formal Loafers', 'Leather Block Heeled Boots', 'Leather Wedge Heeled Boots with Buckles', 'Leather Kitten Heeled Boots', 'Leather Block Heeled Boots with Bows']\n"
     ]
    }
   ],
   "source": [
    "desc = []\n",
    "for i in range(0,5,1):\n",
    "    desc_tag = driver.find_elements_by_xpath('//h4[@class=\"product-product\"]')\n",
    "    for j in desc_tag:\n",
    "        desc.append(j.text)\n",
    "desc = desc[:100]\n",
    "print(len(desc))\n",
    "print(desc)"
   ]
  },
  {
   "cell_type": "markdown",
   "id": "cc0f45f8",
   "metadata": {},
   "source": [
    "### Price"
   ]
  },
  {
   "cell_type": "code",
   "execution_count": 134,
   "id": "6a84a074",
   "metadata": {},
   "outputs": [
    {
     "name": "stdout",
     "output_type": "stream",
     "text": [
      "100\n",
      "['8449', '8449', '9810', '7999', '8449', '7191', '8399', '7999', '7199', '13410', '8399', '7149', '7191', '12150', '9810', '9546', '7699', '10710', '8399', '8550', '13410', '8910', '12510', '8449', '8449', '9810', '7999', '8449', '7191', '8399', '7999', '7199', '13410', '8399', '7149', '7191', '12150', '9810', '9546', '7699', '10710', '8399', '8550', '13410', '8910', '12510', '8449', '8449', '9810', '7999', '8449', '7191', '8399', '7999', '7199', '13410', '8399', '7149', '7191', '12150', '9810', '9546', '7699', '10710', '8399', '8550', '13410', '8910', '12510', '8449', '8449', '9810', '7999', '8449', '7191', '8399', '7999', '7199', '13410', '8399', '7149', '7191', '12150', '9810', '9546', '7699', '10710', '8399', '8550', '13410', '8910', '12510', '8449', '8449', '9810', '7999', '8449', '7191', '8399', '7999']\n"
     ]
    }
   ],
   "source": [
    "price = []\n",
    "for i in range(0,5,1):\n",
    "    price_tag = driver.find_elements_by_xpath('//span[@class=\"product-discountedPrice\"]')\n",
    "    for j in price_tag:\n",
    "        price.append(j.text.replace(\"Rs. \",\"\"))\n",
    "price = price[:100]\n",
    "print(len(price))\n",
    "print(price)"
   ]
  },
  {
   "cell_type": "code",
   "execution_count": 136,
   "id": "9ca32aec",
   "metadata": {},
   "outputs": [
    {
     "data": {
      "text/html": [
       "<div>\n",
       "<style scoped>\n",
       "    .dataframe tbody tr th:only-of-type {\n",
       "        vertical-align: middle;\n",
       "    }\n",
       "\n",
       "    .dataframe tbody tr th {\n",
       "        vertical-align: top;\n",
       "    }\n",
       "\n",
       "    .dataframe thead th {\n",
       "        text-align: right;\n",
       "    }\n",
       "</style>\n",
       "<table border=\"1\" class=\"dataframe\">\n",
       "  <thead>\n",
       "    <tr style=\"text-align: right;\">\n",
       "      <th></th>\n",
       "      <th>Brands</th>\n",
       "      <th>Description</th>\n",
       "      <th>Price(₹)</th>\n",
       "    </tr>\n",
       "  </thead>\n",
       "  <tbody>\n",
       "    <tr>\n",
       "      <th>0</th>\n",
       "      <td>Puma</td>\n",
       "      <td>Men Running Shoes</td>\n",
       "      <td>8449</td>\n",
       "    </tr>\n",
       "    <tr>\n",
       "      <th>1</th>\n",
       "      <td>Puma</td>\n",
       "      <td>Men Magnify Nitro Running</td>\n",
       "      <td>8449</td>\n",
       "    </tr>\n",
       "    <tr>\n",
       "      <th>2</th>\n",
       "      <td>Hush Puppies</td>\n",
       "      <td>Men Solid Leather Formal Slip-Ons</td>\n",
       "      <td>9810</td>\n",
       "    </tr>\n",
       "    <tr>\n",
       "      <th>3</th>\n",
       "      <td>Saint G</td>\n",
       "      <td>Men Mid-Top Chelsea Boots</td>\n",
       "      <td>7999</td>\n",
       "    </tr>\n",
       "    <tr>\n",
       "      <th>4</th>\n",
       "      <td>Calvin Klein</td>\n",
       "      <td>Men Solid Suede Sneakers</td>\n",
       "      <td>8449</td>\n",
       "    </tr>\n",
       "    <tr>\n",
       "      <th>...</th>\n",
       "      <td>...</td>\n",
       "      <td>...</td>\n",
       "      <td>...</td>\n",
       "    </tr>\n",
       "    <tr>\n",
       "      <th>95</th>\n",
       "      <td>Pavers England</td>\n",
       "      <td>Men Solid Leather Formal Loafers</td>\n",
       "      <td>7999</td>\n",
       "    </tr>\n",
       "    <tr>\n",
       "      <th>96</th>\n",
       "      <td>Saint G</td>\n",
       "      <td>Leather Block Heeled Boots</td>\n",
       "      <td>8449</td>\n",
       "    </tr>\n",
       "    <tr>\n",
       "      <th>97</th>\n",
       "      <td>Saint G</td>\n",
       "      <td>Leather Wedge Heeled Boots with Buckles</td>\n",
       "      <td>7191</td>\n",
       "    </tr>\n",
       "    <tr>\n",
       "      <th>98</th>\n",
       "      <td>Saint G</td>\n",
       "      <td>Leather Kitten Heeled Boots</td>\n",
       "      <td>8399</td>\n",
       "    </tr>\n",
       "    <tr>\n",
       "      <th>99</th>\n",
       "      <td>Saint G</td>\n",
       "      <td>Leather Block Heeled Boots with Bows</td>\n",
       "      <td>7999</td>\n",
       "    </tr>\n",
       "  </tbody>\n",
       "</table>\n",
       "<p>100 rows × 3 columns</p>\n",
       "</div>"
      ],
      "text/plain": [
       "            Brands                              Description Price(₹)\n",
       "0             Puma                        Men Running Shoes     8449\n",
       "1             Puma                Men Magnify Nitro Running     8449\n",
       "2     Hush Puppies        Men Solid Leather Formal Slip-Ons     9810\n",
       "3          Saint G                Men Mid-Top Chelsea Boots     7999\n",
       "4     Calvin Klein                 Men Solid Suede Sneakers     8449\n",
       "..             ...                                      ...      ...\n",
       "95  Pavers England         Men Solid Leather Formal Loafers     7999\n",
       "96         Saint G               Leather Block Heeled Boots     8449\n",
       "97         Saint G  Leather Wedge Heeled Boots with Buckles     7191\n",
       "98         Saint G              Leather Kitten Heeled Boots     8399\n",
       "99         Saint G     Leather Block Heeled Boots with Bows     7999\n",
       "\n",
       "[100 rows x 3 columns]"
      ]
     },
     "execution_count": 136,
     "metadata": {},
     "output_type": "execute_result"
    }
   ],
   "source": [
    "boots = pd.DataFrame()\n",
    "boots[\"Brands\"] = brand\n",
    "boots[\"Description\"] = desc\n",
    "boots[\"Price(₹)\"] = price\n",
    "boots"
   ]
  },
  {
   "cell_type": "markdown",
   "id": "d789e189",
   "metadata": {},
   "source": [
    "### 8)Go to webpage\n",
    "https://www.amazon.in/\n",
    "\n",
    "Enter “Laptop” in the search field and then click the search icon.\n",
    "Then set CPU Type filter to “Intel Core i7” and “Intel Core i9” as shown in the below image:\n",
    "After setting the filters scrape first 10 laptops data. You have to scrape 3 attributes for each laptop:\n",
    "1. Title\n",
    "2. Ratings\n",
    "3. Price\n",
    "As shown in the below image as the tick marked attributes"
   ]
  },
  {
   "cell_type": "code",
   "execution_count": 43,
   "id": "d85599f0",
   "metadata": {},
   "outputs": [],
   "source": [
    "driver = webdriver.Chrome(r'E:\\Data science\\FLIPROBO\\web driver\\chromedriver.exe')"
   ]
  },
  {
   "cell_type": "code",
   "execution_count": 44,
   "id": "0c0feb57",
   "metadata": {},
   "outputs": [],
   "source": [
    "url = 'https://www.amazon.in/'\n",
    "driver.get(url)"
   ]
  },
  {
   "cell_type": "code",
   "execution_count": 45,
   "id": "be39e7f5",
   "metadata": {},
   "outputs": [],
   "source": [
    "search = driver.find_element_by_xpath('/html/body/div[1]/header/div/div[1]/div[2]/div/form/div[2]/div[1]/input')\n",
    "search.send_keys('Laptop')"
   ]
  },
  {
   "cell_type": "code",
   "execution_count": 46,
   "id": "eb28fc08",
   "metadata": {},
   "outputs": [],
   "source": [
    "search_btn = driver.find_element_by_xpath('/html/body/div[1]/header/div/div[1]/div[2]/div/form/div[3]/div')\n",
    "search_btn.click()"
   ]
  },
  {
   "cell_type": "markdown",
   "id": "fc9c037a",
   "metadata": {},
   "source": [
    "#### selecting intel core i7\n",
    "#### selecting intel core i9"
   ]
  },
  {
   "cell_type": "code",
   "execution_count": 47,
   "id": "db8d63fb",
   "metadata": {},
   "outputs": [],
   "source": [
    "## filter \n",
    "intel_i7 = driver.find_element_by_xpath(\"/html/body/div[1]/div[2]/div[1]/div[2]/div/div[3]/span/div[1]/span/div/div/div[6]/ul[1]/li[12]/span/a/div/label/i\")\n",
    "intel_i7.click()"
   ]
  },
  {
   "cell_type": "markdown",
   "id": "a2ef560f",
   "metadata": {},
   "source": [
    "### scraping data"
   ]
  },
  {
   "cell_type": "code",
   "execution_count": 48,
   "id": "654a2aff",
   "metadata": {},
   "outputs": [
    {
     "name": "stdout",
     "output_type": "stream",
     "text": [
      "10\n",
      "['Lenovo IdeaPad Flex 5 11th Gen Intel Core i7 14\" FHD 2-in-1 Convertible Laptop (16 GB/512GB SDD/Windows 11/MS Office 2021/Backlit Keyboard /Graphite Grey/1.5Kg), 82HS00W4IN', 'ASUS VivoBook 14 (2021), 14-inch (35.56 cms) FHD, Intel Core i7-1065G7 10th Gen, Thin and Light Laptop (16GB/512GB SSD/Integrated Graphics/Office 2021/Windows 11/Silver/1.6 Kg), X415JA-EK701WS', 'LG Gram 17-inches Ultra-Light Intel Evo 11th Gen Core i7,16 GB RAM, 512 GB SSD, New Win-11 Preload, Iris Xe Graphics, USC -C x 2 (with Power), 1.35 kg, 3 Yr Warranty (17Z90P-G.AH85A2, Black)', 'ASUS TUF Dash F15 (2021) 15.6-inch (39.62 cms) FHD 144Hz, Intel Core i7-11370H 11th Gen, RTX 3050 Ti 4GB Graphics, Gaming Laptop (16GB/1TB SSD/Office 2019/Windows 10/Gray/2 Kg), FX516PEZ-HN105TS', 'Acer Nitro 5 AN515-57 Gaming Laptop | Intel Core i7-11800H |NVIDIA GeForce RTX 3050 Ti Laptop Graphics |15.6\" FHD 144Hz IPS Display |16GB DDR4 |256GB SSD+1TB HDD |Killer Wi-Fi 6 |RGB Backlit Keyboard', 'ASUS TUF Gaming F15 (2021) 15.6-inch (39.62 cms) FHD 144Hz, Intel Core i7-11800H 11th Gen, RTX 3060 6GB Graphics, Gaming Laptop (16GB/1TB SSD/Windows 10/Gray/2.3 Kg), FX566HM-HN100T', 'Lenovo Yoga 7 11th Gen Intel Core i7 14\"(35.56cm) FHD IPS 2-in-1 Touchscreen Convertible Laptop(16GB/512GB SSD/Windows 11/Office 2021/Lenovo Digital Pen/Slate Grey/Aluminium Surface/1.43Kg),82BH00HWIN', 'HP Pavilion 13, 11th Gen Intel Core i7, 13.3-inch(33.8 cm) FHD,IPS, Micro-Edge Laptop (16GB RAM/ 1TB SSD/ Win 10/ FPR/Audio B&O/Alexa Built-in/MS Office/ Ceramic White/ 1.24 Kg) -13-bb0078TU', 'Fujitsu UH-X 11th Gen Intel Core i7 13.3 inches FHD IPS 400Nits 2-in1 Touch Convertible Business Laptop (16GB/1TB SSD/Windows 11/MS Office 2021/Iris Xe Graphics/Backlit Kb/Black/0.997 kg, 4ZR1F38027)', 'HP Envy x360 11th Gen Intel Core i7 13.3-inch(33.8 cm) OLED Touchscreen Convertible Laptop (16GB/512GB SSD/Windows 11 Home/MS Office 2019/Fingerprint Reader/Natural Silver/1.32kg), 13-bd0515TU']\n"
     ]
    }
   ],
   "source": [
    "proc = []\n",
    "inteli7 = driver.find_elements_by_xpath('//h2[@class=\"a-size-mini a-spacing-none a-color-base s-line-clamp-2\"]')\n",
    "for i in inteli7:\n",
    "    proc.append(i.text)\n",
    "proc = proc[:10]\n",
    "print(len(proc))\n",
    "print(proc)"
   ]
  },
  {
   "cell_type": "code",
   "execution_count": 85,
   "id": "7779bca9",
   "metadata": {},
   "outputs": [
    {
     "name": "stdout",
     "output_type": "stream",
     "text": [
      "10\n",
      "['4.1 out of 5 stars', '4.6 out of 5 stars', '4.1 out of 5 stars', '4.5 out of 5 stars', '4.7 out of 5 stars', '4.2 out of 5 stars', '4.6 out of 5 stars', '4.2 out of 5 stars', '3.6 out of 5 stars', '4.4 out of 5 stars']\n"
     ]
    }
   ],
   "source": [
    "Ratings = []\n",
    "rating_tag = driver.find_elements_by_xpath((\"//div[@class='a-row a-size-small']/span\"))\n",
    "for i in rating_tag:\n",
    "    Ratings.append(i.get_attribute('aria-label'))\n",
    "Ratings = Ratings[::2][:10]\n",
    "print(len(Ratings))\n",
    "print(Ratings)"
   ]
  },
  {
   "cell_type": "code",
   "execution_count": 89,
   "id": "5f418e7d",
   "metadata": {},
   "outputs": [
    {
     "name": "stdout",
     "output_type": "stream",
     "text": [
      "10\n",
      "['₹88,990', '₹59,990', '₹99,990', '₹95,990', '₹89,990', '₹1,14,990', '₹99,990', '₹86,990', '₹1,07,490', '₹99,290']\n"
     ]
    }
   ],
   "source": [
    "Price = []\n",
    "price_tag = driver.find_elements_by_xpath('//span[@class=\"a-price\"]')\n",
    "for i in price_tag:\n",
    "    Price.append(i.text)\n",
    "Price = Price[:10]\n",
    "print(len(Price))\n",
    "print(Price)"
   ]
  },
  {
   "cell_type": "code",
   "execution_count": 90,
   "id": "b530ce3f",
   "metadata": {},
   "outputs": [],
   "source": [
    "laptop = pd.DataFrame()\n",
    "laptop['Product'] = proc\n",
    "laptop['Ratings'] = Ratings\n",
    "laptop['Price'] = Price"
   ]
  },
  {
   "cell_type": "code",
   "execution_count": 91,
   "id": "1937b1ea",
   "metadata": {},
   "outputs": [
    {
     "data": {
      "text/html": [
       "<div>\n",
       "<style scoped>\n",
       "    .dataframe tbody tr th:only-of-type {\n",
       "        vertical-align: middle;\n",
       "    }\n",
       "\n",
       "    .dataframe tbody tr th {\n",
       "        vertical-align: top;\n",
       "    }\n",
       "\n",
       "    .dataframe thead th {\n",
       "        text-align: right;\n",
       "    }\n",
       "</style>\n",
       "<table border=\"1\" class=\"dataframe\">\n",
       "  <thead>\n",
       "    <tr style=\"text-align: right;\">\n",
       "      <th></th>\n",
       "      <th>Product</th>\n",
       "      <th>Ratings</th>\n",
       "      <th>Price</th>\n",
       "    </tr>\n",
       "  </thead>\n",
       "  <tbody>\n",
       "    <tr>\n",
       "      <th>0</th>\n",
       "      <td>Lenovo IdeaPad Flex 5 11th Gen Intel Core i7 1...</td>\n",
       "      <td>4.1 out of 5 stars</td>\n",
       "      <td>₹88,990</td>\n",
       "    </tr>\n",
       "    <tr>\n",
       "      <th>1</th>\n",
       "      <td>ASUS VivoBook 14 (2021), 14-inch (35.56 cms) F...</td>\n",
       "      <td>4.6 out of 5 stars</td>\n",
       "      <td>₹59,990</td>\n",
       "    </tr>\n",
       "    <tr>\n",
       "      <th>2</th>\n",
       "      <td>LG Gram 17-inches Ultra-Light Intel Evo 11th G...</td>\n",
       "      <td>4.1 out of 5 stars</td>\n",
       "      <td>₹99,990</td>\n",
       "    </tr>\n",
       "    <tr>\n",
       "      <th>3</th>\n",
       "      <td>ASUS TUF Dash F15 (2021) 15.6-inch (39.62 cms)...</td>\n",
       "      <td>4.5 out of 5 stars</td>\n",
       "      <td>₹95,990</td>\n",
       "    </tr>\n",
       "    <tr>\n",
       "      <th>4</th>\n",
       "      <td>Acer Nitro 5 AN515-57 Gaming Laptop | Intel Co...</td>\n",
       "      <td>4.7 out of 5 stars</td>\n",
       "      <td>₹89,990</td>\n",
       "    </tr>\n",
       "    <tr>\n",
       "      <th>5</th>\n",
       "      <td>ASUS TUF Gaming F15 (2021) 15.6-inch (39.62 cm...</td>\n",
       "      <td>4.2 out of 5 stars</td>\n",
       "      <td>₹1,14,990</td>\n",
       "    </tr>\n",
       "    <tr>\n",
       "      <th>6</th>\n",
       "      <td>Lenovo Yoga 7 11th Gen Intel Core i7 14\"(35.56...</td>\n",
       "      <td>4.6 out of 5 stars</td>\n",
       "      <td>₹99,990</td>\n",
       "    </tr>\n",
       "    <tr>\n",
       "      <th>7</th>\n",
       "      <td>HP Pavilion 13, 11th Gen Intel Core i7, 13.3-i...</td>\n",
       "      <td>4.2 out of 5 stars</td>\n",
       "      <td>₹86,990</td>\n",
       "    </tr>\n",
       "    <tr>\n",
       "      <th>8</th>\n",
       "      <td>Fujitsu UH-X 11th Gen Intel Core i7 13.3 inche...</td>\n",
       "      <td>3.6 out of 5 stars</td>\n",
       "      <td>₹1,07,490</td>\n",
       "    </tr>\n",
       "    <tr>\n",
       "      <th>9</th>\n",
       "      <td>HP Envy x360 11th Gen Intel Core i7 13.3-inch(...</td>\n",
       "      <td>4.4 out of 5 stars</td>\n",
       "      <td>₹99,290</td>\n",
       "    </tr>\n",
       "  </tbody>\n",
       "</table>\n",
       "</div>"
      ],
      "text/plain": [
       "                                             Product             Ratings  \\\n",
       "0  Lenovo IdeaPad Flex 5 11th Gen Intel Core i7 1...  4.1 out of 5 stars   \n",
       "1  ASUS VivoBook 14 (2021), 14-inch (35.56 cms) F...  4.6 out of 5 stars   \n",
       "2  LG Gram 17-inches Ultra-Light Intel Evo 11th G...  4.1 out of 5 stars   \n",
       "3  ASUS TUF Dash F15 (2021) 15.6-inch (39.62 cms)...  4.5 out of 5 stars   \n",
       "4  Acer Nitro 5 AN515-57 Gaming Laptop | Intel Co...  4.7 out of 5 stars   \n",
       "5  ASUS TUF Gaming F15 (2021) 15.6-inch (39.62 cm...  4.2 out of 5 stars   \n",
       "6  Lenovo Yoga 7 11th Gen Intel Core i7 14\"(35.56...  4.6 out of 5 stars   \n",
       "7  HP Pavilion 13, 11th Gen Intel Core i7, 13.3-i...  4.2 out of 5 stars   \n",
       "8  Fujitsu UH-X 11th Gen Intel Core i7 13.3 inche...  3.6 out of 5 stars   \n",
       "9  HP Envy x360 11th Gen Intel Core i7 13.3-inch(...  4.4 out of 5 stars   \n",
       "\n",
       "       Price  \n",
       "0    ₹88,990  \n",
       "1    ₹59,990  \n",
       "2    ₹99,990  \n",
       "3    ₹95,990  \n",
       "4    ₹89,990  \n",
       "5  ₹1,14,990  \n",
       "6    ₹99,990  \n",
       "7    ₹86,990  \n",
       "8  ₹1,07,490  \n",
       "9    ₹99,290  "
      ]
     },
     "execution_count": 91,
     "metadata": {},
     "output_type": "execute_result"
    }
   ],
   "source": [
    "laptop"
   ]
  },
  {
   "cell_type": "markdown",
   "id": "9add6d13",
   "metadata": {},
   "source": [
    "### 9) Write a python program to scrape data for first 10 job results for Data Scientist Designation in Noida location. You have to scrape company name, No. of days ago when job was posted, Rating of the company.\n",
    "This task will be done in following steps:\n",
    "1. First get the webpage https://www.ambitionbox.com/\n",
    "2. Click on the Job option as shown in the image\n",
    "3. After reaching to the next webpage, In place of “Search by Designations, Companies, Skills” enter\n",
    "“Data Scientist” and click on search button.\n",
    "\n",
    "4. You will reach to the following web page click on location and in place of “Search location” enter\n",
    "“Noida” and select location “Noida”.\n",
    "5. Then scrape the data for the first 10 jobs results you get on the above shown page.\n",
    "6. Finally create a dataframe of the scraped data\n"
   ]
  },
  {
   "cell_type": "code",
   "execution_count": 126,
   "id": "ec59fae3",
   "metadata": {},
   "outputs": [],
   "source": [
    "driver = webdriver.Chrome(r'E:\\Data science\\FLIPROBO\\web driver\\chromedriver.exe')"
   ]
  },
  {
   "cell_type": "code",
   "execution_count": 127,
   "id": "3485a0f3",
   "metadata": {},
   "outputs": [],
   "source": [
    "url = 'https://www.ambitionbox.com/'\n",
    "driver.get(url)"
   ]
  },
  {
   "cell_type": "code",
   "execution_count": 128,
   "id": "07123dc0",
   "metadata": {},
   "outputs": [],
   "source": [
    "driver.maximize_window()"
   ]
  },
  {
   "cell_type": "code",
   "execution_count": 129,
   "id": "ec936296",
   "metadata": {},
   "outputs": [],
   "source": [
    "job_option = driver.find_element_by_xpath('/html/body/div[1]/nav/nav/a[6]')\n",
    "job_option.click()"
   ]
  },
  {
   "cell_type": "code",
   "execution_count": 130,
   "id": "5833197f",
   "metadata": {},
   "outputs": [],
   "source": [
    "### writting data scientist\n",
    "data_scientist = driver.find_element_by_xpath('/html/body/div/div/div/div[2]/div[1]/div/div/div/div/span/input')\n",
    "data_scientist.send_keys('Data Scientist')"
   ]
  },
  {
   "cell_type": "code",
   "execution_count": 131,
   "id": "48e6e97d",
   "metadata": {},
   "outputs": [],
   "source": [
    "### search data scientist\n",
    "search = driver.find_element_by_xpath('/html/body/div/div/div/div[2]/div[1]/div/div/div/button')\n",
    "search.click()"
   ]
  },
  {
   "cell_type": "code",
   "execution_count": 133,
   "id": "64bfa55e",
   "metadata": {},
   "outputs": [],
   "source": [
    "Search_location = driver.find_element_by_xpath('/html/body/div/div/div/div[2]/div[2]/div[1]/div/div/div/div[2]')\n",
    "Search_location.click()"
   ]
  },
  {
   "cell_type": "code",
   "execution_count": 134,
   "id": "86ea6995",
   "metadata": {},
   "outputs": [],
   "source": [
    "### writting location\n",
    "location = driver.find_element_by_xpath('/html/body/div/div/div/div[2]/div[2]/div[1]/div/div/div/div[2]/div[2]/div/div[2]/input')\n",
    "location.send_keys('Noida')"
   ]
  },
  {
   "cell_type": "code",
   "execution_count": 135,
   "id": "08b2d32d",
   "metadata": {},
   "outputs": [],
   "source": [
    "### clicking on noida\n",
    "noida = driver.find_element_by_xpath('/html/body/div/div/div/div[2]/div[2]/div[1]/div/div/div/div[2]/div[2]/div/div[3]/div[1]/div[1]/div/label')\n",
    "noida.click()"
   ]
  },
  {
   "cell_type": "markdown",
   "id": "af578052",
   "metadata": {},
   "source": [
    "#### scrapping data"
   ]
  },
  {
   "cell_type": "code",
   "execution_count": 136,
   "id": "7993aab1",
   "metadata": {},
   "outputs": [
    {
     "name": "stdout",
     "output_type": "stream",
     "text": [
      "10\n",
      "['Nokia Solutions and Networks India (P)Ltd.', 'LG Electronics India Pvt. Ltd.', 'Paytm', 'Jubilant Foodworks Limited', 'CHT Sapiense', 'CHT Sapiense', 'GI Group', 'GI Group', 'GI Group', 'Paytm']\n"
     ]
    }
   ],
   "source": [
    "company_name = []\n",
    "company_tag = driver.find_elements_by_xpath('//p[@class=\"company body-medium\"]')\n",
    "for i in company_tag:\n",
    "    company_name.append(i.text)\n",
    "company_name = company_name[:10]\n",
    "print(len(company_name))\n",
    "print(company_name)"
   ]
  },
  {
   "cell_type": "code",
   "execution_count": 140,
   "id": "acbb460d",
   "metadata": {},
   "outputs": [
    {
     "name": "stdout",
     "output_type": "stream",
     "text": [
      "10\n",
      "['4.3', '4.1', '3.7', '3.9', '3.7', '3.7', '4.1', '4.1', '4.1', '3.7']\n"
     ]
    }
   ],
   "source": [
    "Ratings = []\n",
    "rating = driver.find_elements_by_xpath('//span[@class=\"body-small\"]')\n",
    "for i in rating:\n",
    "    Ratings.append(i.text)\n",
    "print(len(Ratings))\n",
    "print(Ratings)"
   ]
  },
  {
   "cell_type": "code",
   "execution_count": 144,
   "id": "8e2012eb",
   "metadata": {},
   "outputs": [
    {
     "name": "stdout",
     "output_type": "stream",
     "text": [
      "10\n",
      "['11d ago', '1mon ago', '5d ago', '22d ago', '6d ago', '7d ago', '19d ago', '19d ago', '19d ago', '26d ago']\n"
     ]
    }
   ],
   "source": [
    "Posted_days = []\n",
    "day = driver.find_elements_by_xpath('//span[@class=\"body-small-l\"]')\n",
    "for i in day:\n",
    "    Posted_days.append(i.text)\n",
    "Posted_days = Posted_days[::2]\n",
    "print(len(Posted_days))\n",
    "print(Posted_days)"
   ]
  },
  {
   "cell_type": "code",
   "execution_count": 145,
   "id": "153eac07",
   "metadata": {},
   "outputs": [
    {
     "data": {
      "text/html": [
       "<div>\n",
       "<style scoped>\n",
       "    .dataframe tbody tr th:only-of-type {\n",
       "        vertical-align: middle;\n",
       "    }\n",
       "\n",
       "    .dataframe tbody tr th {\n",
       "        vertical-align: top;\n",
       "    }\n",
       "\n",
       "    .dataframe thead th {\n",
       "        text-align: right;\n",
       "    }\n",
       "</style>\n",
       "<table border=\"1\" class=\"dataframe\">\n",
       "  <thead>\n",
       "    <tr style=\"text-align: right;\">\n",
       "      <th></th>\n",
       "      <th>Company</th>\n",
       "      <th>Ratings</th>\n",
       "      <th>Posted-Days</th>\n",
       "    </tr>\n",
       "  </thead>\n",
       "  <tbody>\n",
       "    <tr>\n",
       "      <th>0</th>\n",
       "      <td>Nokia Solutions and Networks India (P)Ltd.</td>\n",
       "      <td>4.3</td>\n",
       "      <td>11d ago</td>\n",
       "    </tr>\n",
       "    <tr>\n",
       "      <th>1</th>\n",
       "      <td>LG Electronics India Pvt. Ltd.</td>\n",
       "      <td>4.1</td>\n",
       "      <td>1mon ago</td>\n",
       "    </tr>\n",
       "    <tr>\n",
       "      <th>2</th>\n",
       "      <td>Paytm</td>\n",
       "      <td>3.7</td>\n",
       "      <td>5d ago</td>\n",
       "    </tr>\n",
       "    <tr>\n",
       "      <th>3</th>\n",
       "      <td>Jubilant Foodworks Limited</td>\n",
       "      <td>3.9</td>\n",
       "      <td>22d ago</td>\n",
       "    </tr>\n",
       "    <tr>\n",
       "      <th>4</th>\n",
       "      <td>CHT Sapiense</td>\n",
       "      <td>3.7</td>\n",
       "      <td>6d ago</td>\n",
       "    </tr>\n",
       "    <tr>\n",
       "      <th>5</th>\n",
       "      <td>CHT Sapiense</td>\n",
       "      <td>3.7</td>\n",
       "      <td>7d ago</td>\n",
       "    </tr>\n",
       "    <tr>\n",
       "      <th>6</th>\n",
       "      <td>GI Group</td>\n",
       "      <td>4.1</td>\n",
       "      <td>19d ago</td>\n",
       "    </tr>\n",
       "    <tr>\n",
       "      <th>7</th>\n",
       "      <td>GI Group</td>\n",
       "      <td>4.1</td>\n",
       "      <td>19d ago</td>\n",
       "    </tr>\n",
       "    <tr>\n",
       "      <th>8</th>\n",
       "      <td>GI Group</td>\n",
       "      <td>4.1</td>\n",
       "      <td>19d ago</td>\n",
       "    </tr>\n",
       "    <tr>\n",
       "      <th>9</th>\n",
       "      <td>Paytm</td>\n",
       "      <td>3.7</td>\n",
       "      <td>26d ago</td>\n",
       "    </tr>\n",
       "  </tbody>\n",
       "</table>\n",
       "</div>"
      ],
      "text/plain": [
       "                                      Company Ratings Posted-Days\n",
       "0  Nokia Solutions and Networks India (P)Ltd.     4.3     11d ago\n",
       "1              LG Electronics India Pvt. Ltd.     4.1    1mon ago\n",
       "2                                       Paytm     3.7      5d ago\n",
       "3                  Jubilant Foodworks Limited     3.9     22d ago\n",
       "4                                CHT Sapiense     3.7      6d ago\n",
       "5                                CHT Sapiense     3.7      7d ago\n",
       "6                                    GI Group     4.1     19d ago\n",
       "7                                    GI Group     4.1     19d ago\n",
       "8                                    GI Group     4.1     19d ago\n",
       "9                                       Paytm     3.7     26d ago"
      ]
     },
     "execution_count": 145,
     "metadata": {},
     "output_type": "execute_result"
    }
   ],
   "source": [
    "jobs = pd.DataFrame()\n",
    "jobs['Company'] = company_name\n",
    "jobs['Ratings'] = Ratings\n",
    "jobs['Posted-Days'] = Posted_days\n",
    "jobs"
   ]
  },
  {
   "cell_type": "markdown",
   "id": "8d72d7c3",
   "metadata": {},
   "source": [
    "### 10)Write a python program to scrape the salary data for Data Scientist designation.\n",
    "You have to scrape Company name, Number of salaries, Average salary, Minsalary, Max Salary.\n",
    "The above task will be, done as shown in the below steps:\n",
    "1. First get the webpage https://www.ambitionbox.com/\n",
    "2. Click on the salaries option as shown in the image.\n",
    "3. After reaching to the following webpage, In place of “Search Job Profile” enters “Data Scientist” and\n",
    "then click on “Data Scientist”.\n",
    "You have to scrape the data ticked in the above image.\n",
    "4. Scrape the data for the first 10 companies. Scrape the company name, total salary record, average\n",
    "salary, minimum salary, maximum salary, experience required.\n",
    "5. Store the data in a dataframe"
   ]
  },
  {
   "cell_type": "code",
   "execution_count": 174,
   "id": "22c3904f",
   "metadata": {},
   "outputs": [],
   "source": [
    "driver = webdriver.Chrome(r'E:\\Data science\\FLIPROBO\\web driver\\chromedriver.exe')"
   ]
  },
  {
   "cell_type": "code",
   "execution_count": 175,
   "id": "7e23fd71",
   "metadata": {},
   "outputs": [],
   "source": [
    "url = 'https://www.ambitionbox.com/'\n",
    "driver.get(url)"
   ]
  },
  {
   "cell_type": "code",
   "execution_count": 176,
   "id": "06041d44",
   "metadata": {},
   "outputs": [],
   "source": [
    "driver.maximize_window()"
   ]
  },
  {
   "cell_type": "code",
   "execution_count": 177,
   "id": "bb59057e",
   "metadata": {},
   "outputs": [],
   "source": [
    "salary_option = driver.find_element_by_xpath('/html/body/div[1]/nav/nav/a[4]')\n",
    "salary_option.click()"
   ]
  },
  {
   "cell_type": "code",
   "execution_count": 178,
   "id": "dbbdec46",
   "metadata": {},
   "outputs": [],
   "source": [
    "### writting data scientist\n",
    "data_scientist = driver.find_element_by_xpath('/html/body/div/div/div/main/section[1]/div[2]/div[1]/span/input')\n",
    "data_scientist.send_keys('Data Scientist')"
   ]
  },
  {
   "cell_type": "code",
   "execution_count": 179,
   "id": "43356fa9",
   "metadata": {},
   "outputs": [],
   "source": [
    "search_ds = driver.find_elements_by_xpath('/html/body/div/div/div/main/section[1]/div[2]/div[1]/span/div/div/div[1]/div/div/p')\n",
    "for i in search_ds:\n",
    "    if 'Data Scientist' in i.text:\n",
    "        i.click()\n",
    "        break"
   ]
  },
  {
   "cell_type": "markdown",
   "id": "ddac3a47",
   "metadata": {},
   "source": [
    "### Scraping data "
   ]
  },
  {
   "cell_type": "code",
   "execution_count": 190,
   "id": "d8d698a6",
   "metadata": {},
   "outputs": [
    {
     "name": "stdout",
     "output_type": "stream",
     "text": [
      "10\n",
      "['Walmart', 'Ab Inbev', 'ZS', 'Fractal Analytics', 'Optum', 'UnitedHealth', 'Tiger Analytics', 'Verizon', 'Ganit Business Solutions', 'Ericsson']\n",
      "10\n",
      "[' 10 salaries', ' 22 salaries', ' 14 salaries', ' 72 salaries', ' 23 salaries', ' 49 salaries', ' 27 salaries', ' 14 salaries', ' 13 salaries', ' 42 salaries']\n"
     ]
    }
   ],
   "source": [
    "company_name = []\n",
    "total_salary_record = []\n",
    "company_tag = driver.find_elements_by_xpath('//div[@class=\"name\"]')\n",
    "for i in company_tag:\n",
    "    company_name.append(i.text.split('\\n')[0])\n",
    "    total_salary_record.append(i.text.split('\\n')[1].replace('based on',''))\n",
    "company_name = company_name[:10]\n",
    "total_salary_record = total_salary_record[:10]\n",
    "print(len(company_name))\n",
    "print(company_name)\n",
    "print(len(total_salary_record))\n",
    "print(total_salary_record)"
   ]
  },
  {
   "cell_type": "code",
   "execution_count": 185,
   "id": "50c71995",
   "metadata": {},
   "outputs": [
    {
     "name": "stdout",
     "output_type": "stream",
     "text": [
      "10\n",
      "['₹ 28.7L', '₹ 19.5L', '₹ 15.8L', '₹ 15.0L', '₹ 15.0L', '₹ 13.5L', '₹ 13.5L', '₹ 12.7L', '₹ 12.4L', '₹ 11.9L']\n"
     ]
    }
   ],
   "source": [
    "Average_salary_record = []\n",
    "salary_tag = driver.find_elements_by_xpath('//p[@class=\"averageCtc\"]')\n",
    "for i in salary_tag:\n",
    "    Average_salary_record.append(i.text.split('\\n')[0])\n",
    "Average_salary_record = Average_salary_record[:10]\n",
    "print(len(Average_salary_record))\n",
    "print(Average_salary_record)"
   ]
  },
  {
   "cell_type": "code",
   "execution_count": 195,
   "id": "bd022043",
   "metadata": {},
   "outputs": [
    {
     "name": "stdout",
     "output_type": "stream",
     "text": [
      "10\n",
      "['₹ 17.7L', '₹ 15.0L', '₹ 9.8L', '₹ 9.5L', '₹ 11.0L', '₹ 7.2L', '₹ 8.3L', '₹ 10.0L', '₹ 8.5L', '₹ 5.8L']\n",
      "10\n",
      "['₹ 35.0L', '₹ 25.0L', '₹ 20.0L', '₹ 22.0L', '₹ 21.3L', '₹ 20.5L', '₹ 18.5L', '₹ 21.0L', '₹ 15.0L', '₹ 21.5L']\n"
     ]
    }
   ],
   "source": [
    "minimum_salary = []\n",
    "maximum_salary = []\n",
    "salary_tag_min = driver.find_elements_by_xpath('//div[@class=\"salary-values\"]')\n",
    "for i in salary_tag_min:\n",
    "    minimum_salary.append(i.text.split('\\n')[0])\n",
    "    maximum_salary.append(i.text.split('\\n')[1])\n",
    "minimum_salary = minimum_salary[:10]\n",
    "print(len(minimum_salary))\n",
    "print(minimum_salary)\n",
    "print(len(maximum_salary))\n",
    "print(maximum_salary)"
   ]
  },
  {
   "cell_type": "code",
   "execution_count": 201,
   "id": "158ff2c9",
   "metadata": {},
   "outputs": [
    {
     "name": "stdout",
     "output_type": "stream",
     "text": [
      "10\n",
      "['3 yrs ', '3-4 yrs ', '2 yrs ', '2-4 yrs ', '3-4 yrs ', '2-4 yrs ', '3-4 yrs ', '4 yrs ', '4 yrs ', '3-4 yrs ']\n"
     ]
    }
   ],
   "source": [
    "Experience_required = []\n",
    "exp = driver.find_elements_by_xpath('//div[@class=\"salaries sbold-list-header\"]')\n",
    "for i in exp:\n",
    "    Experience_required.append(i.text.split('\\n')[-1].replace('exp',''))\n",
    "Experience_required = Experience_required[:10]\n",
    "print(len(Experience_required))\n",
    "print(Experience_required)"
   ]
  },
  {
   "cell_type": "code",
   "execution_count": 204,
   "id": "6049166d",
   "metadata": {},
   "outputs": [
    {
     "data": {
      "text/html": [
       "<div>\n",
       "<style scoped>\n",
       "    .dataframe tbody tr th:only-of-type {\n",
       "        vertical-align: middle;\n",
       "    }\n",
       "\n",
       "    .dataframe tbody tr th {\n",
       "        vertical-align: top;\n",
       "    }\n",
       "\n",
       "    .dataframe thead th {\n",
       "        text-align: right;\n",
       "    }\n",
       "</style>\n",
       "<table border=\"1\" class=\"dataframe\">\n",
       "  <thead>\n",
       "    <tr style=\"text-align: right;\">\n",
       "      <th></th>\n",
       "      <th>Company</th>\n",
       "      <th>Total_salary_record</th>\n",
       "      <th>Minimum_salary</th>\n",
       "      <th>Average_salary_record</th>\n",
       "      <th>Maximum_salary</th>\n",
       "      <th>Experience_required</th>\n",
       "    </tr>\n",
       "  </thead>\n",
       "  <tbody>\n",
       "    <tr>\n",
       "      <th>0</th>\n",
       "      <td>Walmart</td>\n",
       "      <td>10 salaries</td>\n",
       "      <td>₹ 17.7L</td>\n",
       "      <td>₹ 28.7L</td>\n",
       "      <td>₹ 35.0L</td>\n",
       "      <td>3 yrs</td>\n",
       "    </tr>\n",
       "    <tr>\n",
       "      <th>1</th>\n",
       "      <td>Ab Inbev</td>\n",
       "      <td>22 salaries</td>\n",
       "      <td>₹ 15.0L</td>\n",
       "      <td>₹ 19.5L</td>\n",
       "      <td>₹ 25.0L</td>\n",
       "      <td>3-4 yrs</td>\n",
       "    </tr>\n",
       "    <tr>\n",
       "      <th>2</th>\n",
       "      <td>ZS</td>\n",
       "      <td>14 salaries</td>\n",
       "      <td>₹ 9.8L</td>\n",
       "      <td>₹ 15.8L</td>\n",
       "      <td>₹ 20.0L</td>\n",
       "      <td>2 yrs</td>\n",
       "    </tr>\n",
       "    <tr>\n",
       "      <th>3</th>\n",
       "      <td>Fractal Analytics</td>\n",
       "      <td>72 salaries</td>\n",
       "      <td>₹ 9.5L</td>\n",
       "      <td>₹ 15.0L</td>\n",
       "      <td>₹ 22.0L</td>\n",
       "      <td>2-4 yrs</td>\n",
       "    </tr>\n",
       "    <tr>\n",
       "      <th>4</th>\n",
       "      <td>Optum</td>\n",
       "      <td>23 salaries</td>\n",
       "      <td>₹ 11.0L</td>\n",
       "      <td>₹ 15.0L</td>\n",
       "      <td>₹ 21.3L</td>\n",
       "      <td>3-4 yrs</td>\n",
       "    </tr>\n",
       "    <tr>\n",
       "      <th>5</th>\n",
       "      <td>UnitedHealth</td>\n",
       "      <td>49 salaries</td>\n",
       "      <td>₹ 7.2L</td>\n",
       "      <td>₹ 13.5L</td>\n",
       "      <td>₹ 20.5L</td>\n",
       "      <td>2-4 yrs</td>\n",
       "    </tr>\n",
       "    <tr>\n",
       "      <th>6</th>\n",
       "      <td>Tiger Analytics</td>\n",
       "      <td>27 salaries</td>\n",
       "      <td>₹ 8.3L</td>\n",
       "      <td>₹ 13.5L</td>\n",
       "      <td>₹ 18.5L</td>\n",
       "      <td>3-4 yrs</td>\n",
       "    </tr>\n",
       "    <tr>\n",
       "      <th>7</th>\n",
       "      <td>Verizon</td>\n",
       "      <td>14 salaries</td>\n",
       "      <td>₹ 10.0L</td>\n",
       "      <td>₹ 12.7L</td>\n",
       "      <td>₹ 21.0L</td>\n",
       "      <td>4 yrs</td>\n",
       "    </tr>\n",
       "    <tr>\n",
       "      <th>8</th>\n",
       "      <td>Ganit Business Solutions</td>\n",
       "      <td>13 salaries</td>\n",
       "      <td>₹ 8.5L</td>\n",
       "      <td>₹ 12.4L</td>\n",
       "      <td>₹ 15.0L</td>\n",
       "      <td>4 yrs</td>\n",
       "    </tr>\n",
       "    <tr>\n",
       "      <th>9</th>\n",
       "      <td>Ericsson</td>\n",
       "      <td>42 salaries</td>\n",
       "      <td>₹ 5.8L</td>\n",
       "      <td>₹ 11.9L</td>\n",
       "      <td>₹ 21.5L</td>\n",
       "      <td>3-4 yrs</td>\n",
       "    </tr>\n",
       "  </tbody>\n",
       "</table>\n",
       "</div>"
      ],
      "text/plain": [
       "                    Company Total_salary_record Minimum_salary  \\\n",
       "0                   Walmart         10 salaries        ₹ 17.7L   \n",
       "1                  Ab Inbev         22 salaries        ₹ 15.0L   \n",
       "2                        ZS         14 salaries         ₹ 9.8L   \n",
       "3         Fractal Analytics         72 salaries         ₹ 9.5L   \n",
       "4                     Optum         23 salaries        ₹ 11.0L   \n",
       "5              UnitedHealth         49 salaries         ₹ 7.2L   \n",
       "6           Tiger Analytics         27 salaries         ₹ 8.3L   \n",
       "7                   Verizon         14 salaries        ₹ 10.0L   \n",
       "8  Ganit Business Solutions         13 salaries         ₹ 8.5L   \n",
       "9                  Ericsson         42 salaries         ₹ 5.8L   \n",
       "\n",
       "  Average_salary_record Maximum_salary Experience_required  \n",
       "0               ₹ 28.7L        ₹ 35.0L              3 yrs   \n",
       "1               ₹ 19.5L        ₹ 25.0L            3-4 yrs   \n",
       "2               ₹ 15.8L        ₹ 20.0L              2 yrs   \n",
       "3               ₹ 15.0L        ₹ 22.0L            2-4 yrs   \n",
       "4               ₹ 15.0L        ₹ 21.3L            3-4 yrs   \n",
       "5               ₹ 13.5L        ₹ 20.5L            2-4 yrs   \n",
       "6               ₹ 13.5L        ₹ 18.5L            3-4 yrs   \n",
       "7               ₹ 12.7L        ₹ 21.0L              4 yrs   \n",
       "8               ₹ 12.4L        ₹ 15.0L              4 yrs   \n",
       "9               ₹ 11.9L        ₹ 21.5L            3-4 yrs   "
      ]
     },
     "execution_count": 204,
     "metadata": {},
     "output_type": "execute_result"
    }
   ],
   "source": [
    "salary_data = pd.DataFrame()\n",
    "salary_data['Company'] = company_name\n",
    "salary_data['Total_salary_record'] = total_salary_record\n",
    "salary_data['Minimum_salary'] = minimum_salary\n",
    "salary_data['Average_salary_record'] = Average_salary_record\n",
    "salary_data['Maximum_salary'] = maximum_salary\n",
    "salary_data['Experience_required'] = Experience_required\n",
    "salary_data"
   ]
  },
  {
   "cell_type": "code",
   "execution_count": null,
   "id": "bea4ea86",
   "metadata": {},
   "outputs": [],
   "source": []
  }
 ],
 "metadata": {
  "kernelspec": {
   "display_name": "Python 3",
   "language": "python",
   "name": "python3"
  },
  "language_info": {
   "codemirror_mode": {
    "name": "ipython",
    "version": 3
   },
   "file_extension": ".py",
   "mimetype": "text/x-python",
   "name": "python",
   "nbconvert_exporter": "python",
   "pygments_lexer": "ipython3",
   "version": "3.8.8"
  }
 },
 "nbformat": 4,
 "nbformat_minor": 5
}
